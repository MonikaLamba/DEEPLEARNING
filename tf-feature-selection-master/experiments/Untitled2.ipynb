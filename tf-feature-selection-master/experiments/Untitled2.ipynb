{
 "cells": [
  {
   "cell_type": "code",
   "execution_count": 1,
   "metadata": {},
   "outputs": [
    {
     "ename": "ModuleNotFoundError",
     "evalue": "No module named 'methods'",
     "output_type": "error",
     "traceback": [
      "\u001b[1;31m---------------------------------------------------------------------------\u001b[0m",
      "\u001b[1;31mModuleNotFoundError\u001b[0m                       Traceback (most recent call last)",
      "\u001b[1;32m<ipython-input-1-ed83ee7af04a>\u001b[0m in \u001b[0;36m<module>\u001b[1;34m\u001b[0m\n\u001b[0;32m      1\u001b[0m \u001b[1;32mimport\u001b[0m \u001b[0mtensorflow\u001b[0m \u001b[1;32mas\u001b[0m \u001b[0mtf\u001b[0m\u001b[1;33m\u001b[0m\u001b[1;33m\u001b[0m\u001b[0m\n\u001b[0;32m      2\u001b[0m \u001b[1;33m\u001b[0m\u001b[0m\n\u001b[1;32m----> 3\u001b[1;33m \u001b[1;32mfrom\u001b[0m \u001b[0mmethods\u001b[0m\u001b[1;33m.\u001b[0m\u001b[0mselection\u001b[0m \u001b[1;32mimport\u001b[0m \u001b[0mfisher\u001b[0m\u001b[1;33m,\u001b[0m \u001b[0mfeature_correlation_with_class\u001b[0m\u001b[1;33m,\u001b[0m \u001b[0mt_test\u001b[0m\u001b[1;33m,\u001b[0m \u001b[0mrandom\u001b[0m\u001b[1;33m\u001b[0m\u001b[1;33m\u001b[0m\u001b[0m\n\u001b[0m\u001b[0;32m      4\u001b[0m \u001b[1;32mfrom\u001b[0m \u001b[0mmethods\u001b[0m\u001b[1;33m.\u001b[0m\u001b[0mselection_wrapper\u001b[0m \u001b[1;32mimport\u001b[0m \u001b[0mSelectionWrapper\u001b[0m\u001b[1;33m\u001b[0m\u001b[1;33m\u001b[0m\u001b[0m\n\u001b[0;32m      5\u001b[0m \u001b[1;33m\u001b[0m\u001b[0m\n",
      "\u001b[1;31mModuleNotFoundError\u001b[0m: No module named 'methods'"
     ]
    }
   ],
   "source": [
    "import tensorflow as tf\n",
    "\n",
    "from methods.selection import fisher, feature_correlation_with_class, t_test, random\n",
    "from methods.selection_wrapper import SelectionWrapper\n",
    "\n",
    "methods = {\n",
    "    'fisher': fisher,\n",
    "    'corr': feature_correlation_with_class,\n",
    "    'ttest': t_test,\n",
    "    'random': random\n",
    "}\n",
    "\n",
    "\n",
    "class Experiment:\n",
    "\n",
    "    def __init__(self, experiment_config, num_instances, classifier, dataset):\n",
    "        selection_method = methods[experiment_config['SELECTION']['method']]\n",
    "        num_features = int(experiment_config['SELECTION']['num_features'])\n",
    "        hidden_sizes = int(experiment_config['CLASSIFIER']['hidden_sizes'])\n",
    "\n",
    "        with tf.name_scope('selection'):\n",
    "            self.selection_wrapper = SelectionWrapper(dataset,\n",
    "                                                      num_instances=num_instances,\n",
    "                                                      selection_method=selection_method,\n",
    "                                                      num_features=num_features)\n",
    "\n",
    "        with tf.name_scope('classifier'):\n",
    "            self.clf = classifier(num_features, hidden_sizes)\n"
   ]
  },
  {
   "cell_type": "code",
   "execution_count": null,
   "metadata": {},
   "outputs": [],
   "source": []
  }
 ],
 "metadata": {
  "kernelspec": {
   "display_name": "Python 3",
   "language": "python",
   "name": "python3"
  },
  "language_info": {
   "codemirror_mode": {
    "name": "ipython",
    "version": 3
   },
   "file_extension": ".py",
   "mimetype": "text/x-python",
   "name": "python",
   "nbconvert_exporter": "python",
   "pygments_lexer": "ipython3",
   "version": "3.7.3"
  }
 },
 "nbformat": 4,
 "nbformat_minor": 2
}
