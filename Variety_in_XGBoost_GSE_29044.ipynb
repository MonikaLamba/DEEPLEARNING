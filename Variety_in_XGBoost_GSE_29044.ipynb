{
  "nbformat": 4,
  "nbformat_minor": 0,
  "metadata": {
    "colab": {
      "name": "Variety in XGBoost_GSE_29044.ipynb",
      "provenance": [],
      "authorship_tag": "ABX9TyPjeCyM2tPNkSc+aQTn6P5R",
      "include_colab_link": true
    },
    "kernelspec": {
      "name": "python3",
      "display_name": "Python 3"
    },
    "language_info": {
      "name": "python"
    }
  },
  "cells": [
    {
      "cell_type": "markdown",
      "metadata": {
        "id": "view-in-github",
        "colab_type": "text"
      },
      "source": [
        "<a href=\"https://colab.research.google.com/github/MonikaLamba/DEEPLEARNING/blob/master/Variety_in_XGBoost_GSE_29044.ipynb\" target=\"_parent\"><img src=\"https://colab.research.google.com/assets/colab-badge.svg\" alt=\"Open In Colab\"/></a>"
      ]
    },
    {
      "cell_type": "code",
      "execution_count": 1,
      "metadata": {
        "id": "mEFKLb53U1aW"
      },
      "outputs": [],
      "source": [
        "import numpy as np\n",
        "import pandas as pd\n",
        "import matplotlib.pyplot as plt\n",
        "from sklearn.datasets import make_classification\n",
        "\n",
        "from sklearn.model_selection import train_test_split\n",
        "from sklearn.ensemble import RandomForestClassifier\n",
        "\n",
        "data = pd.read_csv('/content/29044_HEATMAP_GENES_C.csv')\n",
        "y = (data['GRADE'])  # Convert from string \"Yes\"/\"No\" to binary\n",
        "feature_names = [i for i in data.columns]\n",
        "X = data[feature_names]"
      ]
    },
    {
      "cell_type": "code",
      "source": [
        "from tqdm import tqdm\n",
        "!pip install xgbse\n",
        "# models and metrics\n",
        "import xgboost as xgb\n",
        "from sklearn.model_selection import train_test_split\n",
        "from xgbse.metrics import concordance_index\n",
        "from xgbse.non_parametric import get_time_bins\n",
        "from xgbse import (\n",
        "    XGBSEKaplanNeighbors,\n",
        "    XGBSEKaplanTree,\n",
        "    XGBSEDebiasedBCE,\n",
        "    XGBSEBootstrapEstimator\n",
        ")\n",
        "from xgbse.converters import (\n",
        "    convert_data_to_xgb_format,\n",
        "    convert_to_structured\n",
        ")\n",
        "\n",
        "# better plots\n",
        "from IPython.display import set_matplotlib_formats\n",
        "set_matplotlib_formats('retina')\n",
        "plt.style.use('bmh')\n",
        "\n",
        "# setting seed\n",
        "np.random.seed(42)"
      ],
      "metadata": {
        "colab": {
          "base_uri": "https://localhost:8080/",
          "height": 1000
        },
        "id": "UruazUDPVGf0",
        "outputId": "3d8abea2-e6fa-47c2-83b7-fa32b83f613f"
      },
      "execution_count": 2,
      "outputs": [
        {
          "output_type": "stream",
          "name": "stdout",
          "text": [
            "Looking in indexes: https://pypi.org/simple, https://us-python.pkg.dev/colab-wheels/public/simple/\n",
            "Collecting xgbse\n",
            "  Downloading xgbse-0.2.3-py3-none-any.whl (35 kB)\n",
            "Requirement already satisfied: scikit-learn>=0.22.2 in /usr/local/lib/python3.7/dist-packages (from xgbse) (1.0.2)\n",
            "Requirement already satisfied: joblib>=0.15.1 in /usr/local/lib/python3.7/dist-packages (from xgbse) (1.1.0)\n",
            "Requirement already satisfied: pandas>=1.0.* in /usr/local/lib/python3.7/dist-packages (from xgbse) (1.3.5)\n",
            "Requirement already satisfied: numpy>=1.18.4 in /usr/local/lib/python3.7/dist-packages (from xgbse) (1.21.6)\n",
            "Collecting lifelines>=0.25.4\n",
            "  Downloading lifelines-0.27.0-py3-none-any.whl (349 kB)\n",
            "\u001b[K     |████████████████████████████████| 349 kB 43.7 MB/s \n",
            "\u001b[?25hCollecting xgboost>=1.4.0\n",
            "  Downloading xgboost-1.6.1-py3-none-manylinux2014_x86_64.whl (192.9 MB)\n",
            "\u001b[K     |████████████████████████████████| 192.9 MB 57 kB/s \n",
            "\u001b[?25hRequirement already satisfied: matplotlib>=3.0 in /usr/local/lib/python3.7/dist-packages (from lifelines>=0.25.4->xgbse) (3.2.2)\n",
            "Requirement already satisfied: scipy>=1.2.0 in /usr/local/lib/python3.7/dist-packages (from lifelines>=0.25.4->xgbse) (1.4.1)\n",
            "Collecting autograd-gamma>=0.3\n",
            "  Downloading autograd-gamma-0.5.0.tar.gz (4.0 kB)\n",
            "Collecting formulaic>=0.2.2\n",
            "  Downloading formulaic-0.3.4-py3-none-any.whl (68 kB)\n",
            "\u001b[K     |████████████████████████████████| 68 kB 1.8 MB/s \n",
            "\u001b[?25hRequirement already satisfied: autograd>=1.3 in /usr/local/lib/python3.7/dist-packages (from lifelines>=0.25.4->xgbse) (1.4)\n",
            "Requirement already satisfied: future>=0.15.2 in /usr/local/lib/python3.7/dist-packages (from autograd>=1.3->lifelines>=0.25.4->xgbse) (0.16.0)\n",
            "Collecting interface-meta<2.0.0,>=1.2.0\n",
            "  Downloading interface_meta-1.3.0-py3-none-any.whl (14 kB)\n",
            "Requirement already satisfied: wrapt>=1.0 in /usr/local/lib/python3.7/dist-packages (from formulaic>=0.2.2->lifelines>=0.25.4->xgbse) (1.14.1)\n",
            "Requirement already satisfied: astor>=0.8 in /usr/local/lib/python3.7/dist-packages (from formulaic>=0.2.2->lifelines>=0.25.4->xgbse) (0.8.1)\n",
            "Collecting scipy>=1.2.0\n",
            "  Downloading scipy-1.7.3-cp37-cp37m-manylinux_2_12_x86_64.manylinux2010_x86_64.whl (38.1 MB)\n",
            "\u001b[K     |████████████████████████████████| 38.1 MB 2.6 MB/s \n",
            "\u001b[?25hRequirement already satisfied: pyparsing!=2.0.4,!=2.1.2,!=2.1.6,>=2.0.1 in /usr/local/lib/python3.7/dist-packages (from matplotlib>=3.0->lifelines>=0.25.4->xgbse) (3.0.9)\n",
            "Requirement already satisfied: cycler>=0.10 in /usr/local/lib/python3.7/dist-packages (from matplotlib>=3.0->lifelines>=0.25.4->xgbse) (0.11.0)\n",
            "Requirement already satisfied: kiwisolver>=1.0.1 in /usr/local/lib/python3.7/dist-packages (from matplotlib>=3.0->lifelines>=0.25.4->xgbse) (1.4.2)\n",
            "Requirement already satisfied: python-dateutil>=2.1 in /usr/local/lib/python3.7/dist-packages (from matplotlib>=3.0->lifelines>=0.25.4->xgbse) (2.8.2)\n",
            "Requirement already satisfied: typing-extensions in /usr/local/lib/python3.7/dist-packages (from kiwisolver>=1.0.1->matplotlib>=3.0->lifelines>=0.25.4->xgbse) (4.2.0)\n",
            "Requirement already satisfied: pytz>=2017.3 in /usr/local/lib/python3.7/dist-packages (from pandas>=1.0.*->xgbse) (2022.1)\n",
            "Requirement already satisfied: six>=1.5 in /usr/local/lib/python3.7/dist-packages (from python-dateutil>=2.1->matplotlib>=3.0->lifelines>=0.25.4->xgbse) (1.15.0)\n",
            "Requirement already satisfied: threadpoolctl>=2.0.0 in /usr/local/lib/python3.7/dist-packages (from scikit-learn>=0.22.2->xgbse) (3.1.0)\n",
            "Building wheels for collected packages: autograd-gamma\n",
            "  Building wheel for autograd-gamma (setup.py) ... \u001b[?25l\u001b[?25hdone\n",
            "  Created wheel for autograd-gamma: filename=autograd_gamma-0.5.0-py3-none-any.whl size=4048 sha256=0986a487a3ffa371ffd7b535a9bad8aaad50a7a079af3561e26a58311f7c7b2e\n",
            "  Stored in directory: /root/.cache/pip/wheels/9f/01/ee/1331593abb5725ff7d8c1333aee93a50a1c29d6ddda9665c9f\n",
            "Successfully built autograd-gamma\n",
            "Installing collected packages: scipy, interface-meta, formulaic, autograd-gamma, xgboost, lifelines, xgbse\n",
            "  Attempting uninstall: scipy\n",
            "    Found existing installation: scipy 1.4.1\n",
            "    Uninstalling scipy-1.4.1:\n",
            "      Successfully uninstalled scipy-1.4.1\n",
            "  Attempting uninstall: xgboost\n",
            "    Found existing installation: xgboost 0.90\n",
            "    Uninstalling xgboost-0.90:\n",
            "      Successfully uninstalled xgboost-0.90\n",
            "\u001b[31mERROR: pip's dependency resolver does not currently take into account all the packages that are installed. This behaviour is the source of the following dependency conflicts.\n",
            "albumentations 0.1.12 requires imgaug<0.2.7,>=0.2.5, but you have imgaug 0.2.9 which is incompatible.\u001b[0m\n",
            "Successfully installed autograd-gamma-0.5.0 formulaic-0.3.4 interface-meta-1.3.0 lifelines-0.27.0 scipy-1.7.3 xgboost-1.6.1 xgbse-0.2.3\n"
          ]
        },
        {
          "output_type": "display_data",
          "data": {
            "application/vnd.colab-display-data+json": {
              "pip_warning": {
                "packages": [
                  "scipy"
                ]
              }
            }
          },
          "metadata": {}
        }
      ]
    },
    {
      "cell_type": "code",
      "source": [
        "PARAMS_XGB_AFT = {\n",
        "    'objective': 'survival:aft',\n",
        "    'eval_metric': 'aft-nloglik',\n",
        "    'aft_loss_distribution': 'normal',\n",
        "    'aft_loss_distribution_scale': 0.5,\n",
        "    'tree_method': 'approx', \n",
        "    'learning_rate': 5e-2, \n",
        "    'max_depth': 8, \n",
        "    'booster':'dart',\n",
        "    'subsample':0.5,\n",
        "    'min_child_weight': 50,\n",
        "    'colsample_bynode':0.5\n",
        "}"
      ],
      "metadata": {
        "id": "D9amWitGVKH2"
      },
      "execution_count": 3,
      "outputs": []
    },
    {
      "cell_type": "code",
      "source": [
        "X = data.drop(['GRADE'], axis=1)\n",
        "y = convert_to_structured(data['GRADE'],data['SNX21'])\n",
        "\n",
        "X_train, X_valid,y_train, y_valid = train_test_split(X, y, test_size = 0.2, random_state=42)\n",
        "# converting to xgboost format\n",
        "dtrain = convert_data_to_xgb_format(X_train, y_train, 'survival:aft')\n",
        "dval = convert_data_to_xgb_format(X_valid, y_valid, 'survival:aft')\n",
        "\n",
        "# training model\n",
        "bst = xgb.train(\n",
        "    PARAMS_XGB_AFT,\n",
        "    dtrain,\n",
        "    num_boost_round=1000,\n",
        "    early_stopping_rounds=10,\n",
        "    evals=[(dval, 'val')],\n",
        "    verbose_eval=0\n",
        ")\n",
        "\n",
        "# predicting and evaluating\n",
        "preds = bst.predict(dval)\n",
        "cind = concordance_index(y_valid, -preds, risk_strategy='precomputed')\n",
        "print(f\"C-index: {cind:.3f}\")\n",
        "print(f\"Average survival time: {preds.mean():.0f} days\")"
      ],
      "metadata": {
        "colab": {
          "base_uri": "https://localhost:8080/"
        },
        "id": "th6nLpKVVTv4",
        "outputId": "d0c2e2e2-f0f3-4d67-ecf0-7ccd539a9cdd"
      },
      "execution_count": 4,
      "outputs": [
        {
          "output_type": "stream",
          "name": "stdout",
          "text": [
            "C-index: 0.841\n",
            "Average survival time: 2 days\n"
          ]
        }
      ]
    },
    {
      "cell_type": "code",
      "source": [
        "X = data.drop(['GRADE'], axis=1)\n",
        "y = convert_to_structured(data['GRADE'],data['FGD6'])\n",
        "\n",
        "X_train, X_valid,y_train, y_valid = train_test_split(X, y, test_size = 0.2, random_state=42)\n",
        "# converting to xgboost format\n",
        "dtrain = convert_data_to_xgb_format(X_train, y_train, 'survival:aft')\n",
        "dval = convert_data_to_xgb_format(X_valid, y_valid, 'survival:aft')\n",
        "\n",
        "# training model\n",
        "bst = xgb.train(\n",
        "    PARAMS_XGB_AFT,\n",
        "    dtrain,\n",
        "    num_boost_round=1000,\n",
        "    early_stopping_rounds=10,\n",
        "    evals=[(dval, 'val')],\n",
        "    verbose_eval=0\n",
        ")\n",
        "\n",
        "# predicting and evaluating\n",
        "preds = bst.predict(dval)\n",
        "cind = concordance_index(y_valid, -preds, risk_strategy='precomputed')\n",
        "print(f\"C-index: {cind:.3f}\")\n",
        "print(f\"Average survival time: {preds.mean():.0f} days\")"
      ],
      "metadata": {
        "colab": {
          "base_uri": "https://localhost:8080/"
        },
        "id": "1hK3yBn-VirY",
        "outputId": "488abbda-e81d-4a6c-baea-058bf14f8ed4"
      },
      "execution_count": 5,
      "outputs": [
        {
          "output_type": "stream",
          "name": "stdout",
          "text": [
            "C-index: 0.841\n",
            "Average survival time: 2 days\n"
          ]
        }
      ]
    },
    {
      "cell_type": "code",
      "source": [
        "X = data.drop(['GRADE'], axis=1)\n",
        "y = convert_to_structured(data['GRADE'],data['C1S'])\n",
        "\n",
        "X_train, X_valid,y_train, y_valid = train_test_split(X, y, test_size = 0.2, random_state=42)\n",
        "# converting to xgboost format\n",
        "dtrain = convert_data_to_xgb_format(X_train, y_train, 'survival:aft')\n",
        "dval = convert_data_to_xgb_format(X_valid, y_valid, 'survival:aft')\n",
        "\n",
        "# training model\n",
        "bst = xgb.train(\n",
        "    PARAMS_XGB_AFT,\n",
        "    dtrain,\n",
        "    num_boost_round=1000,\n",
        "    early_stopping_rounds=10,\n",
        "    evals=[(dval, 'val')],\n",
        "    verbose_eval=0\n",
        ")\n",
        "\n",
        "# predicting and evaluating\n",
        "preds = bst.predict(dval)\n",
        "cind = concordance_index(y_valid, -preds, risk_strategy='precomputed')\n",
        "print(f\"C-index: {cind:.3f}\")\n",
        "print(f\"Average survival time: {preds.mean():.0f} days\")"
      ],
      "metadata": {
        "colab": {
          "base_uri": "https://localhost:8080/"
        },
        "id": "dKbtSaY83Jii",
        "outputId": "13e0d460-f9d4-4e05-da9f-19c1b1cc5a33"
      },
      "execution_count": 6,
      "outputs": [
        {
          "output_type": "stream",
          "name": "stdout",
          "text": [
            "C-index: 0.841\n",
            "Average survival time: 2 days\n"
          ]
        }
      ]
    },
    {
      "cell_type": "code",
      "source": [
        "X = data.drop(['GRADE'], axis=1)\n",
        "y = convert_to_structured(data['GRADE'],data['PDHA1'])\n",
        "\n",
        "X_train, X_valid,y_train, y_valid = train_test_split(X, y, test_size = 0.2, random_state=42)\n",
        "# converting to xgboost format\n",
        "dtrain = convert_data_to_xgb_format(X_train, y_train, 'survival:aft')\n",
        "dval = convert_data_to_xgb_format(X_valid, y_valid, 'survival:aft')\n",
        "\n",
        "# training model\n",
        "bst = xgb.train(\n",
        "    PARAMS_XGB_AFT,\n",
        "    dtrain,\n",
        "    num_boost_round=1000,\n",
        "    early_stopping_rounds=10,\n",
        "    evals=[(dval, 'val')],\n",
        "    verbose_eval=0\n",
        ")\n",
        "\n",
        "# predicting and evaluating\n",
        "preds = bst.predict(dval)\n",
        "cind = concordance_index(y_valid, -preds, risk_strategy='precomputed')\n",
        "print(f\"C-index: {cind:.3f}\")\n",
        "print(f\"Average survival time: {preds.mean():.0f} days\")"
      ],
      "metadata": {
        "colab": {
          "base_uri": "https://localhost:8080/"
        },
        "id": "bwdfgCx13R-z",
        "outputId": "f35537a1-28e6-470e-b462-e97788da475c"
      },
      "execution_count": 7,
      "outputs": [
        {
          "output_type": "stream",
          "name": "stdout",
          "text": [
            "C-index: 0.841\n",
            "Average survival time: 2 days\n"
          ]
        }
      ]
    },
    {
      "cell_type": "code",
      "source": [
        "X = data.drop(['GRADE'], axis=1)\n",
        "y = convert_to_structured(data['GRADE'],data['GTF3A'])\n",
        "\n",
        "X_train, X_valid,y_train, y_valid = train_test_split(X, y, test_size = 0.2, random_state=42)\n",
        "# converting to xgboost format\n",
        "dtrain = convert_data_to_xgb_format(X_train, y_train, 'survival:aft')\n",
        "dval = convert_data_to_xgb_format(X_valid, y_valid, 'survival:aft')\n",
        "\n",
        "# training model\n",
        "bst = xgb.train(\n",
        "    PARAMS_XGB_AFT,\n",
        "    dtrain,\n",
        "    num_boost_round=1000,\n",
        "    early_stopping_rounds=10,\n",
        "    evals=[(dval, 'val')],\n",
        "    verbose_eval=0\n",
        ")\n",
        "\n",
        "# predicting and evaluating\n",
        "preds = bst.predict(dval)\n",
        "cind = concordance_index(y_valid, -preds, risk_strategy='precomputed')\n",
        "print(f\"C-index: {cind:.3f}\")\n",
        "print(f\"Average survival time: {preds.mean():.0f} days\")"
      ],
      "metadata": {
        "colab": {
          "base_uri": "https://localhost:8080/"
        },
        "id": "lRz9rZgB3Y3C",
        "outputId": "878d2979-694b-4b5a-d48f-bfff85489673"
      },
      "execution_count": 8,
      "outputs": [
        {
          "output_type": "stream",
          "name": "stdout",
          "text": [
            "C-index: 0.841\n",
            "Average survival time: 2 days\n"
          ]
        }
      ]
    },
    {
      "cell_type": "code",
      "source": [
        "X = data.drop(['GRADE'], axis=1)\n",
        "y = convert_to_structured(data['GRADE'],data['EPB41L2'])\n",
        "\n",
        "X_train, X_valid,y_train, y_valid = train_test_split(X, y, test_size = 0.2, random_state=42)\n",
        "# converting to xgboost format\n",
        "dtrain = convert_data_to_xgb_format(X_train, y_train, 'survival:aft')\n",
        "dval = convert_data_to_xgb_format(X_valid, y_valid, 'survival:aft')\n",
        "\n",
        "# training model\n",
        "bst = xgb.train(\n",
        "    PARAMS_XGB_AFT,\n",
        "    dtrain,\n",
        "    num_boost_round=1000,\n",
        "    early_stopping_rounds=10,\n",
        "    evals=[(dval, 'val')],\n",
        "    verbose_eval=0\n",
        ")\n",
        "\n",
        "# predicting and evaluating\n",
        "preds = bst.predict(dval)\n",
        "cind = concordance_index(y_valid, -preds, risk_strategy='precomputed')\n",
        "print(f\"C-index: {cind:.3f}\")\n",
        "print(f\"Average survival time: {preds.mean():.0f} days\")"
      ],
      "metadata": {
        "colab": {
          "base_uri": "https://localhost:8080/"
        },
        "id": "ItRiww-M3eal",
        "outputId": "3bc44d19-fed7-4189-9993-df1ea77c43a0"
      },
      "execution_count": 9,
      "outputs": [
        {
          "output_type": "stream",
          "name": "stdout",
          "text": [
            "C-index: 0.841\n",
            "Average survival time: 2 days\n"
          ]
        }
      ]
    },
    {
      "cell_type": "code",
      "source": [
        "X = data.drop(['GRADE'], axis=1)\n",
        "y = convert_to_structured(data['GRADE'],data['PSMB4'])\n",
        "\n",
        "X_train, X_valid,y_train, y_valid = train_test_split(X, y, test_size = 0.2, random_state=42)\n",
        "# converting to xgboost format\n",
        "dtrain = convert_data_to_xgb_format(X_train, y_train, 'survival:aft')\n",
        "dval = convert_data_to_xgb_format(X_valid, y_valid, 'survival:aft')\n",
        "\n",
        "# training model\n",
        "bst = xgb.train(\n",
        "    PARAMS_XGB_AFT,\n",
        "    dtrain,\n",
        "    num_boost_round=1000,\n",
        "    early_stopping_rounds=10,\n",
        "    evals=[(dval, 'val')],\n",
        "    verbose_eval=0\n",
        ")\n",
        "\n",
        "# predicting and evaluating\n",
        "preds = bst.predict(dval)\n",
        "cind = concordance_index(y_valid, -preds, risk_strategy='precomputed')\n",
        "print(f\"C-index: {cind:.3f}\")\n",
        "print(f\"Average survival time: {preds.mean():.0f} days\")"
      ],
      "metadata": {
        "colab": {
          "base_uri": "https://localhost:8080/"
        },
        "id": "jAdD0-9b3kKl",
        "outputId": "80111ea1-a96b-40a1-9fa7-819a281d0e1c"
      },
      "execution_count": 11,
      "outputs": [
        {
          "output_type": "stream",
          "name": "stdout",
          "text": [
            "C-index: 0.841\n",
            "Average survival time: 2 days\n"
          ]
        }
      ]
    },
    {
      "cell_type": "code",
      "source": [
        "\n",
        "X = data.drop(['GRADE'], axis=1)\n",
        "y = convert_to_structured(data['GRADE'],data['IL1R2'])\n",
        "\n",
        "X_train, X_valid,y_train, y_valid = train_test_split(X, y, test_size = 0.2, random_state=42)\n",
        "# converting to xgboost format\n",
        "dtrain = convert_data_to_xgb_format(X_train, y_train, 'survival:aft')\n",
        "dval = convert_data_to_xgb_format(X_valid, y_valid, 'survival:aft')\n",
        "\n",
        "# training model\n",
        "bst = xgb.train(\n",
        "    PARAMS_XGB_AFT,\n",
        "    dtrain,\n",
        "    num_boost_round=1000,\n",
        "    early_stopping_rounds=10,\n",
        "    evals=[(dval, 'val')],\n",
        "    verbose_eval=0\n",
        ")\n",
        "\n",
        "# predicting and evaluating\n",
        "preds = bst.predict(dval)\n",
        "cind = concordance_index(y_valid, -preds, risk_strategy='precomputed')\n",
        "print(f\"C-index: {cind:.3f}\")\n",
        "print(f\"Average survival time: {preds.mean():.0f} days\")"
      ],
      "metadata": {
        "colab": {
          "base_uri": "https://localhost:8080/"
        },
        "id": "HZQ5E2zZ3qMB",
        "outputId": "14d8df4a-97a1-4e90-cfab-68b81ac5d475"
      },
      "execution_count": 12,
      "outputs": [
        {
          "output_type": "stream",
          "name": "stdout",
          "text": [
            "C-index: 0.841\n",
            "Average survival time: 2 days\n"
          ]
        }
      ]
    },
    {
      "cell_type": "code",
      "source": [
        "X = data.drop(['GRADE'], axis=1)\n",
        "y = convert_to_structured(data['GRADE'],data['ZNF253'])\n",
        "\n",
        "X_train, X_valid,y_train, y_valid = train_test_split(X, y, test_size = 0.2, random_state=42)\n",
        "# converting to xgboost format\n",
        "dtrain = convert_data_to_xgb_format(X_train, y_train, 'survival:aft')\n",
        "dval = convert_data_to_xgb_format(X_valid, y_valid, 'survival:aft')\n",
        "\n",
        "# training model\n",
        "bst = xgb.train(\n",
        "    PARAMS_XGB_AFT,\n",
        "    dtrain,\n",
        "    num_boost_round=1000,\n",
        "    early_stopping_rounds=10,\n",
        "    evals=[(dval, 'val')],\n",
        "    verbose_eval=0\n",
        ")\n",
        "\n",
        "# predicting and evaluating\n",
        "preds = bst.predict(dval)\n",
        "cind = concordance_index(y_valid, -preds, risk_strategy='precomputed')\n",
        "print(f\"C-index: {cind:.3f}\")\n",
        "print(f\"Average survival time: {preds.mean():.0f} days\")"
      ],
      "metadata": {
        "id": "hR3Zc6RY37b4",
        "colab": {
          "base_uri": "https://localhost:8080/"
        },
        "outputId": "1be557aa-cd26-4c79-b5d8-a863f61dd5a5"
      },
      "execution_count": 13,
      "outputs": [
        {
          "output_type": "stream",
          "name": "stdout",
          "text": [
            "C-index: 0.841\n",
            "Average survival time: 2 days\n"
          ]
        }
      ]
    },
    {
      "cell_type": "code",
      "source": [
        ""
      ],
      "metadata": {
        "id": "ywIviSpYSIo7"
      },
      "execution_count": null,
      "outputs": []
    }
  ]
}