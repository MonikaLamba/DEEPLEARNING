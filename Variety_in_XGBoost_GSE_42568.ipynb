{
  "nbformat": 4,
  "nbformat_minor": 0,
  "metadata": {
    "colab": {
      "name": "Variety in XGBoost_GSE_42568.ipynb",
      "provenance": [],
      "authorship_tag": "ABX9TyNBvRhMx3UMzOLsjiB/wLkF",
      "include_colab_link": true
    },
    "kernelspec": {
      "name": "python3",
      "display_name": "Python 3"
    },
    "language_info": {
      "name": "python"
    }
  },
  "cells": [
    {
      "cell_type": "markdown",
      "metadata": {
        "id": "view-in-github",
        "colab_type": "text"
      },
      "source": [
        "<a href=\"https://colab.research.google.com/github/MonikaLamba/DEEPLEARNING/blob/master/Variety_in_XGBoost_GSE_42568.ipynb\" target=\"_parent\"><img src=\"https://colab.research.google.com/assets/colab-badge.svg\" alt=\"Open In Colab\"/></a>"
      ]
    },
    {
      "cell_type": "code",
      "execution_count": 1,
      "metadata": {
        "id": "mEFKLb53U1aW"
      },
      "outputs": [],
      "source": [
        "import numpy as np\n",
        "import pandas as pd\n",
        "import matplotlib.pyplot as plt\n",
        "from sklearn.datasets import make_classification\n",
        "\n",
        "from sklearn.model_selection import train_test_split\n",
        "from sklearn.ensemble import RandomForestClassifier\n",
        "\n",
        "data = pd.read_csv('/content/42568_hEATMAP_GENES_C.csv')\n",
        "y = (data['GRADE'])  # Convert from string \"Yes\"/\"No\" to binary\n",
        "feature_names = [i for i in data.columns]\n",
        "X = data[feature_names]"
      ]
    },
    {
      "cell_type": "code",
      "source": [
        "from tqdm import tqdm\n",
        "!pip install xgbse\n",
        "# models and metrics\n",
        "import xgboost as xgb\n",
        "from sklearn.model_selection import train_test_split\n",
        "from xgbse.metrics import concordance_index\n",
        "from xgbse.non_parametric import get_time_bins\n",
        "from xgbse import (\n",
        "    XGBSEKaplanNeighbors,\n",
        "    XGBSEKaplanTree,\n",
        "    XGBSEDebiasedBCE,\n",
        "    XGBSEBootstrapEstimator\n",
        ")\n",
        "from xgbse.converters import (\n",
        "    convert_data_to_xgb_format,\n",
        "    convert_to_structured\n",
        ")\n",
        "\n",
        "# better plots\n",
        "from IPython.display import set_matplotlib_formats\n",
        "set_matplotlib_formats('retina')\n",
        "plt.style.use('bmh')\n",
        "\n",
        "# setting seed\n",
        "np.random.seed(42)"
      ],
      "metadata": {
        "colab": {
          "base_uri": "https://localhost:8080/"
        },
        "id": "UruazUDPVGf0",
        "outputId": "68f4b398-e05c-485a-e536-b48ae49a14f4"
      },
      "execution_count": 2,
      "outputs": [
        {
          "output_type": "stream",
          "name": "stdout",
          "text": [
            "Looking in indexes: https://pypi.org/simple, https://us-python.pkg.dev/colab-wheels/public/simple/\n",
            "Requirement already satisfied: xgbse in /usr/local/lib/python3.7/dist-packages (0.2.3)\n",
            "Requirement already satisfied: scikit-learn>=0.22.2 in /usr/local/lib/python3.7/dist-packages (from xgbse) (1.0.2)\n",
            "Requirement already satisfied: numpy>=1.18.4 in /usr/local/lib/python3.7/dist-packages (from xgbse) (1.21.6)\n",
            "Requirement already satisfied: joblib>=0.15.1 in /usr/local/lib/python3.7/dist-packages (from xgbse) (1.1.0)\n",
            "Requirement already satisfied: lifelines>=0.25.4 in /usr/local/lib/python3.7/dist-packages (from xgbse) (0.27.0)\n",
            "Requirement already satisfied: pandas>=1.0.* in /usr/local/lib/python3.7/dist-packages (from xgbse) (1.3.5)\n",
            "Requirement already satisfied: xgboost>=1.4.0 in /usr/local/lib/python3.7/dist-packages (from xgbse) (1.6.1)\n",
            "Requirement already satisfied: scipy>=1.2.0 in /usr/local/lib/python3.7/dist-packages (from lifelines>=0.25.4->xgbse) (1.7.3)\n",
            "Requirement already satisfied: autograd>=1.3 in /usr/local/lib/python3.7/dist-packages (from lifelines>=0.25.4->xgbse) (1.4)\n",
            "Requirement already satisfied: autograd-gamma>=0.3 in /usr/local/lib/python3.7/dist-packages (from lifelines>=0.25.4->xgbse) (0.5.0)\n",
            "Requirement already satisfied: formulaic>=0.2.2 in /usr/local/lib/python3.7/dist-packages (from lifelines>=0.25.4->xgbse) (0.3.4)\n",
            "Requirement already satisfied: matplotlib>=3.0 in /usr/local/lib/python3.7/dist-packages (from lifelines>=0.25.4->xgbse) (3.2.2)\n",
            "Requirement already satisfied: future>=0.15.2 in /usr/local/lib/python3.7/dist-packages (from autograd>=1.3->lifelines>=0.25.4->xgbse) (0.16.0)\n",
            "Requirement already satisfied: wrapt>=1.0 in /usr/local/lib/python3.7/dist-packages (from formulaic>=0.2.2->lifelines>=0.25.4->xgbse) (1.14.1)\n",
            "Requirement already satisfied: astor>=0.8 in /usr/local/lib/python3.7/dist-packages (from formulaic>=0.2.2->lifelines>=0.25.4->xgbse) (0.8.1)\n",
            "Requirement already satisfied: interface-meta<2.0.0,>=1.2.0 in /usr/local/lib/python3.7/dist-packages (from formulaic>=0.2.2->lifelines>=0.25.4->xgbse) (1.3.0)\n",
            "Requirement already satisfied: kiwisolver>=1.0.1 in /usr/local/lib/python3.7/dist-packages (from matplotlib>=3.0->lifelines>=0.25.4->xgbse) (1.4.2)\n",
            "Requirement already satisfied: python-dateutil>=2.1 in /usr/local/lib/python3.7/dist-packages (from matplotlib>=3.0->lifelines>=0.25.4->xgbse) (2.8.2)\n",
            "Requirement already satisfied: cycler>=0.10 in /usr/local/lib/python3.7/dist-packages (from matplotlib>=3.0->lifelines>=0.25.4->xgbse) (0.11.0)\n",
            "Requirement already satisfied: pyparsing!=2.0.4,!=2.1.2,!=2.1.6,>=2.0.1 in /usr/local/lib/python3.7/dist-packages (from matplotlib>=3.0->lifelines>=0.25.4->xgbse) (3.0.9)\n",
            "Requirement already satisfied: typing-extensions in /usr/local/lib/python3.7/dist-packages (from kiwisolver>=1.0.1->matplotlib>=3.0->lifelines>=0.25.4->xgbse) (4.2.0)\n",
            "Requirement already satisfied: pytz>=2017.3 in /usr/local/lib/python3.7/dist-packages (from pandas>=1.0.*->xgbse) (2022.1)\n",
            "Requirement already satisfied: six>=1.5 in /usr/local/lib/python3.7/dist-packages (from python-dateutil>=2.1->matplotlib>=3.0->lifelines>=0.25.4->xgbse) (1.15.0)\n",
            "Requirement already satisfied: threadpoolctl>=2.0.0 in /usr/local/lib/python3.7/dist-packages (from scikit-learn>=0.22.2->xgbse) (3.1.0)\n"
          ]
        }
      ]
    },
    {
      "cell_type": "code",
      "source": [
        "PARAMS_XGB_AFT = {\n",
        "    'objective': 'survival:aft',\n",
        "    'eval_metric': 'aft-nloglik',\n",
        "    'aft_loss_distribution': 'normal',\n",
        "    'aft_loss_distribution_scale': 0.5,\n",
        "    'tree_method': 'approx', \n",
        "    'learning_rate': 5e-2, \n",
        "    'max_depth': 8, \n",
        "    'booster':'dart',\n",
        "    'subsample':0.5,\n",
        "    'min_child_weight': 50,\n",
        "    'colsample_bynode':0.5\n",
        "}"
      ],
      "metadata": {
        "id": "D9amWitGVKH2"
      },
      "execution_count": 5,
      "outputs": []
    },
    {
      "cell_type": "code",
      "source": [
        "X = data.drop(['GRADE'], axis=1)\n",
        "y = convert_to_structured(data['GRADE'],data['PPM1G'])\n",
        "\n",
        "X_train, X_valid,y_train, y_valid = train_test_split(X, y, test_size = 0.2, random_state=42)\n",
        "# converting to xgboost format\n",
        "dtrain = convert_data_to_xgb_format(X_train, y_train, 'survival:aft')\n",
        "dval = convert_data_to_xgb_format(X_valid, y_valid, 'survival:aft')\n",
        "\n",
        "# training model\n",
        "bst = xgb.train(\n",
        "    PARAMS_XGB_AFT,\n",
        "    dtrain,\n",
        "    num_boost_round=1000,\n",
        "    early_stopping_rounds=10,\n",
        "    evals=[(dval, 'val')],\n",
        "    verbose_eval=0\n",
        ")\n",
        "\n",
        "# predicting and evaluating\n",
        "preds = bst.predict(dval)\n",
        "cind = concordance_index(y_valid, -preds, risk_strategy='precomputed')\n",
        "print(f\"C-index: {cind:.3f}\")\n",
        "print(f\"Average survival time: {preds.mean():.0f} days\")"
      ],
      "metadata": {
        "colab": {
          "base_uri": "https://localhost:8080/"
        },
        "id": "th6nLpKVVTv4",
        "outputId": "faf00a0e-44c3-4cd8-a78d-fb177fe263e9"
      },
      "execution_count": 6,
      "outputs": [
        {
          "output_type": "stream",
          "name": "stdout",
          "text": [
            "C-index: 0.940\n",
            "Average survival time: 2 days\n"
          ]
        }
      ]
    },
    {
      "cell_type": "code",
      "source": [
        "X = data.drop(['GRADE'], axis=1)\n",
        "y = convert_to_structured(data['GRADE'],data['PCNXL4'])\n",
        "\n",
        "X_train, X_valid,y_train, y_valid = train_test_split(X, y, test_size = 0.2, random_state=42)\n",
        "# converting to xgboost format\n",
        "dtrain = convert_data_to_xgb_format(X_train, y_train, 'survival:aft')\n",
        "dval = convert_data_to_xgb_format(X_valid, y_valid, 'survival:aft')\n",
        "\n",
        "# training model\n",
        "bst = xgb.train(\n",
        "    PARAMS_XGB_AFT,\n",
        "    dtrain,\n",
        "    num_boost_round=1000,\n",
        "    early_stopping_rounds=10,\n",
        "    evals=[(dval, 'val')],\n",
        "    verbose_eval=0\n",
        ")\n",
        "\n",
        "# predicting and evaluating\n",
        "preds = bst.predict(dval)\n",
        "cind = concordance_index(y_valid, -preds, risk_strategy='precomputed')\n",
        "print(f\"C-index: {cind:.3f}\")\n",
        "print(f\"Average survival time: {preds.mean():.0f} days\")"
      ],
      "metadata": {
        "colab": {
          "base_uri": "https://localhost:8080/"
        },
        "id": "1hK3yBn-VirY",
        "outputId": "6dcd51b9-479b-42a2-a7a1-2e2fca996839"
      },
      "execution_count": 7,
      "outputs": [
        {
          "output_type": "stream",
          "name": "stdout",
          "text": [
            "C-index: 0.922\n",
            "Average survival time: 2 days\n"
          ]
        }
      ]
    },
    {
      "cell_type": "code",
      "source": [
        "X = data.drop(['GRADE'], axis=1)\n",
        "y = convert_to_structured(data['GRADE'],data['V39326'])\n",
        "\n",
        "X_train, X_valid,y_train, y_valid = train_test_split(X, y, test_size = 0.2, random_state=42)\n",
        "# converting to xgboost format\n",
        "dtrain = convert_data_to_xgb_format(X_train, y_train, 'survival:aft')\n",
        "dval = convert_data_to_xgb_format(X_valid, y_valid, 'survival:aft')\n",
        "\n",
        "# training model\n",
        "bst = xgb.train(\n",
        "    PARAMS_XGB_AFT,\n",
        "    dtrain,\n",
        "    num_boost_round=1000,\n",
        "    early_stopping_rounds=10,\n",
        "    evals=[(dval, 'val')],\n",
        "    verbose_eval=0\n",
        ")\n",
        "\n",
        "# predicting and evaluating\n",
        "preds = bst.predict(dval)\n",
        "cind = concordance_index(y_valid, -preds, risk_strategy='precomputed')\n",
        "print(f\"C-index: {cind:.3f}\")\n",
        "print(f\"Average survival time: {preds.mean():.0f} days\")"
      ],
      "metadata": {
        "colab": {
          "base_uri": "https://localhost:8080/"
        },
        "id": "dKbtSaY83Jii",
        "outputId": "21ca8c71-c944-438c-de2a-f7d3c56c511f"
      },
      "execution_count": 8,
      "outputs": [
        {
          "output_type": "stream",
          "name": "stdout",
          "text": [
            "C-index: 0.940\n",
            "Average survival time: 2 days\n"
          ]
        }
      ]
    },
    {
      "cell_type": "code",
      "source": [
        "X = data.drop(['GRADE'], axis=1)\n",
        "y = convert_to_structured(data['GRADE'],data['LOC10192'])\n",
        "\n",
        "X_train, X_valid,y_train, y_valid = train_test_split(X, y, test_size = 0.2, random_state=42)\n",
        "# converting to xgboost format\n",
        "dtrain = convert_data_to_xgb_format(X_train, y_train, 'survival:aft')\n",
        "dval = convert_data_to_xgb_format(X_valid, y_valid, 'survival:aft')\n",
        "\n",
        "# training model\n",
        "bst = xgb.train(\n",
        "    PARAMS_XGB_AFT,\n",
        "    dtrain,\n",
        "    num_boost_round=1000,\n",
        "    early_stopping_rounds=10,\n",
        "    evals=[(dval, 'val')],\n",
        "    verbose_eval=0\n",
        ")\n",
        "\n",
        "# predicting and evaluating\n",
        "preds = bst.predict(dval)\n",
        "cind = concordance_index(y_valid, -preds, risk_strategy='precomputed')\n",
        "print(f\"C-index: {cind:.3f}\")\n",
        "print(f\"Average survival time: {preds.mean():.0f} days\")"
      ],
      "metadata": {
        "colab": {
          "base_uri": "https://localhost:8080/"
        },
        "id": "bwdfgCx13R-z",
        "outputId": "1c58cca8-f855-45b0-a716-eb8bb4f170e6"
      },
      "execution_count": 9,
      "outputs": [
        {
          "output_type": "stream",
          "name": "stdout",
          "text": [
            "C-index: 0.914\n",
            "Average survival time: 2 days\n"
          ]
        }
      ]
    },
    {
      "cell_type": "code",
      "source": [
        "X = data.drop(['GRADE'], axis=1)\n",
        "y = convert_to_structured(data['GRADE'],data['CIAO1'])\n",
        "\n",
        "X_train, X_valid,y_train, y_valid = train_test_split(X, y, test_size = 0.2, random_state=42)\n",
        "# converting to xgboost format\n",
        "dtrain = convert_data_to_xgb_format(X_train, y_train, 'survival:aft')\n",
        "dval = convert_data_to_xgb_format(X_valid, y_valid, 'survival:aft')\n",
        "\n",
        "# training model\n",
        "bst = xgb.train(\n",
        "    PARAMS_XGB_AFT,\n",
        "    dtrain,\n",
        "    num_boost_round=1000,\n",
        "    early_stopping_rounds=10,\n",
        "    evals=[(dval, 'val')],\n",
        "    verbose_eval=0\n",
        ")\n",
        "\n",
        "# predicting and evaluating\n",
        "preds = bst.predict(dval)\n",
        "cind = concordance_index(y_valid, -preds, risk_strategy='precomputed')\n",
        "print(f\"C-index: {cind:.3f}\")\n",
        "print(f\"Average survival time: {preds.mean():.0f} days\")"
      ],
      "metadata": {
        "colab": {
          "base_uri": "https://localhost:8080/"
        },
        "id": "lRz9rZgB3Y3C",
        "outputId": "cd71bdab-7982-40b4-d418-4a6fd4bab839"
      },
      "execution_count": 10,
      "outputs": [
        {
          "output_type": "stream",
          "name": "stdout",
          "text": [
            "C-index: 0.940\n",
            "Average survival time: 2 days\n"
          ]
        }
      ]
    },
    {
      "cell_type": "code",
      "source": [
        "X = data.drop(['GRADE'], axis=1)\n",
        "y = convert_to_structured(data['GRADE'],data['RRAS2'])\n",
        "\n",
        "X_train, X_valid,y_train, y_valid = train_test_split(X, y, test_size = 0.2, random_state=42)\n",
        "# converting to xgboost format\n",
        "dtrain = convert_data_to_xgb_format(X_train, y_train, 'survival:aft')\n",
        "dval = convert_data_to_xgb_format(X_valid, y_valid, 'survival:aft')\n",
        "\n",
        "# training model\n",
        "bst = xgb.train(\n",
        "    PARAMS_XGB_AFT,\n",
        "    dtrain,\n",
        "    num_boost_round=1000,\n",
        "    early_stopping_rounds=10,\n",
        "    evals=[(dval, 'val')],\n",
        "    verbose_eval=0\n",
        ")\n",
        "\n",
        "# predicting and evaluating\n",
        "preds = bst.predict(dval)\n",
        "cind = concordance_index(y_valid, -preds, risk_strategy='precomputed')\n",
        "print(f\"C-index: {cind:.3f}\")\n",
        "print(f\"Average survival time: {preds.mean():.0f} days\")"
      ],
      "metadata": {
        "colab": {
          "base_uri": "https://localhost:8080/"
        },
        "id": "ItRiww-M3eal",
        "outputId": "b6c0bb69-1042-4c93-db09-08be15ea2745"
      },
      "execution_count": 11,
      "outputs": [
        {
          "output_type": "stream",
          "name": "stdout",
          "text": [
            "C-index: 0.914\n",
            "Average survival time: 2 days\n"
          ]
        }
      ]
    },
    {
      "cell_type": "code",
      "source": [
        "X = data.drop(['GRADE'], axis=1)\n",
        "y = convert_to_structured(data['GRADE'],data['WDR5B'])\n",
        "\n",
        "X_train, X_valid,y_train, y_valid = train_test_split(X, y, test_size = 0.2, random_state=42)\n",
        "# converting to xgboost format\n",
        "dtrain = convert_data_to_xgb_format(X_train, y_train, 'survival:aft')\n",
        "dval = convert_data_to_xgb_format(X_valid, y_valid, 'survival:aft')\n",
        "\n",
        "# training model\n",
        "bst = xgb.train(\n",
        "    PARAMS_XGB_AFT,\n",
        "    dtrain,\n",
        "    num_boost_round=1000,\n",
        "    early_stopping_rounds=10,\n",
        "    evals=[(dval, 'val')],\n",
        "    verbose_eval=0\n",
        ")\n",
        "\n",
        "# predicting and evaluating\n",
        "preds = bst.predict(dval)\n",
        "cind = concordance_index(y_valid, -preds, risk_strategy='precomputed')\n",
        "print(f\"C-index: {cind:.3f}\")\n",
        "print(f\"Average survival time: {preds.mean():.0f} days\")"
      ],
      "metadata": {
        "colab": {
          "base_uri": "https://localhost:8080/"
        },
        "id": "jAdD0-9b3kKl",
        "outputId": "66806d4b-48bb-4abe-f635-8a846be0bd31"
      },
      "execution_count": 12,
      "outputs": [
        {
          "output_type": "stream",
          "name": "stdout",
          "text": [
            "C-index: 0.940\n",
            "Average survival time: 2 days\n"
          ]
        }
      ]
    },
    {
      "cell_type": "code",
      "source": [
        "\n",
        "X = data.drop(['GRADE'], axis=1)\n",
        "y = convert_to_structured(data['GRADE'],data['BIRC5/// EPR-1'])\n",
        "\n",
        "X_train, X_valid,y_train, y_valid = train_test_split(X, y, test_size = 0.2, random_state=42)\n",
        "# converting to xgboost format\n",
        "dtrain = convert_data_to_xgb_format(X_train, y_train, 'survival:aft')\n",
        "dval = convert_data_to_xgb_format(X_valid, y_valid, 'survival:aft')\n",
        "\n",
        "# training model\n",
        "bst = xgb.train(\n",
        "    PARAMS_XGB_AFT,\n",
        "    dtrain,\n",
        "    num_boost_round=1000,\n",
        "    early_stopping_rounds=10,\n",
        "    evals=[(dval, 'val')],\n",
        "    verbose_eval=0\n",
        ")\n",
        "\n",
        "# predicting and evaluating\n",
        "preds = bst.predict(dval)\n",
        "cind = concordance_index(y_valid, -preds, risk_strategy='precomputed')\n",
        "print(f\"C-index: {cind:.3f}\")\n",
        "print(f\"Average survival time: {preds.mean():.0f} days\")"
      ],
      "metadata": {
        "colab": {
          "base_uri": "https://localhost:8080/"
        },
        "id": "HZQ5E2zZ3qMB",
        "outputId": "3e1c42b4-9b8b-4b15-fc44-1f917c3a5faf"
      },
      "execution_count": 13,
      "outputs": [
        {
          "output_type": "stream",
          "name": "stdout",
          "text": [
            "C-index: 0.940\n",
            "Average survival time: 2 days\n"
          ]
        }
      ]
    },
    {
      "cell_type": "code",
      "source": [
        ""
      ],
      "metadata": {
        "id": "hR3Zc6RY37b4"
      },
      "execution_count": null,
      "outputs": []
    }
  ]
}