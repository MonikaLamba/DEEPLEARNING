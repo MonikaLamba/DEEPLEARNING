{
  "nbformat": 4,
  "nbformat_minor": 0,
  "metadata": {
    "colab": {
      "name": "Variety in XGBoost_GSE_10886_extreme.ipynb",
      "provenance": [],
      "authorship_tag": "ABX9TyM92B8rnUGb/GzVF27qIeTv",
      "include_colab_link": true
    },
    "kernelspec": {
      "name": "python3",
      "display_name": "Python 3"
    },
    "language_info": {
      "name": "python"
    }
  },
  "cells": [
    {
      "cell_type": "markdown",
      "metadata": {
        "id": "view-in-github",
        "colab_type": "text"
      },
      "source": [
        "<a href=\"https://colab.research.google.com/github/MonikaLamba/DEEPLEARNING/blob/master/Variety_in_XGBoost_GSE_10886_extreme.ipynb\" target=\"_parent\"><img src=\"https://colab.research.google.com/assets/colab-badge.svg\" alt=\"Open In Colab\"/></a>"
      ]
    },
    {
      "cell_type": "code",
      "execution_count": 1,
      "metadata": {
        "id": "mEFKLb53U1aW"
      },
      "outputs": [],
      "source": [
        "import numpy as np\n",
        "import pandas as pd\n",
        "import matplotlib.pyplot as plt\n",
        "from sklearn.datasets import make_classification\n",
        "\n",
        "from sklearn.model_selection import train_test_split\n",
        "from sklearn.ensemble import RandomForestClassifier\n",
        "\n",
        "data = pd.read_csv('/content/10886_heap_map_genes_7.csv')\n",
        "y = (data['GRADE'])  # Convert from string \"Yes\"/\"No\" to binary\n",
        "feature_names = [i for i in data.columns]\n",
        "X = data[feature_names]"
      ]
    },
    {
      "cell_type": "code",
      "source": [
        "from tqdm import tqdm\n",
        "!pip install xgbse\n",
        "# models and metrics\n",
        "import xgboost as xgb\n",
        "from sklearn.model_selection import train_test_split\n",
        "from xgbse.metrics import concordance_index\n",
        "from xgbse.non_parametric import get_time_bins\n",
        "from xgbse import (\n",
        "    XGBSEKaplanNeighbors,\n",
        "    XGBSEKaplanTree,\n",
        "    XGBSEDebiasedBCE,\n",
        "    XGBSEBootstrapEstimator\n",
        ")\n",
        "from xgbse.converters import (\n",
        "    convert_data_to_xgb_format,\n",
        "    convert_to_structured\n",
        ")\n",
        "\n",
        "# better plots\n",
        "from IPython.display import set_matplotlib_formats\n",
        "set_matplotlib_formats('retina')\n",
        "plt.style.use('bmh')\n",
        "\n",
        "# setting seed\n",
        "np.random.seed(42)"
      ],
      "metadata": {
        "colab": {
          "base_uri": "https://localhost:8080/",
          "height": 1000
        },
        "id": "UruazUDPVGf0",
        "outputId": "3eaa6226-2e12-451a-844d-18f657ad2186"
      },
      "execution_count": 2,
      "outputs": [
        {
          "output_type": "stream",
          "name": "stdout",
          "text": [
            "Looking in indexes: https://pypi.org/simple, https://us-python.pkg.dev/colab-wheels/public/simple/\n",
            "Collecting xgbse\n",
            "  Downloading xgbse-0.2.3-py3-none-any.whl (35 kB)\n",
            "Requirement already satisfied: pandas>=1.0.* in /usr/local/lib/python3.7/dist-packages (from xgbse) (1.3.5)\n",
            "Requirement already satisfied: scikit-learn>=0.22.2 in /usr/local/lib/python3.7/dist-packages (from xgbse) (1.0.2)\n",
            "Collecting xgboost>=1.4.0\n",
            "  Downloading xgboost-1.6.1-py3-none-manylinux2014_x86_64.whl (192.9 MB)\n",
            "\u001b[K     |████████████████████████████████| 192.9 MB 52 kB/s \n",
            "\u001b[?25hRequirement already satisfied: joblib>=0.15.1 in /usr/local/lib/python3.7/dist-packages (from xgbse) (1.1.0)\n",
            "Requirement already satisfied: numpy>=1.18.4 in /usr/local/lib/python3.7/dist-packages (from xgbse) (1.21.6)\n",
            "Collecting lifelines>=0.25.4\n",
            "  Downloading lifelines-0.27.0-py3-none-any.whl (349 kB)\n",
            "\u001b[K     |████████████████████████████████| 349 kB 49.0 MB/s \n",
            "\u001b[?25hRequirement already satisfied: autograd>=1.3 in /usr/local/lib/python3.7/dist-packages (from lifelines>=0.25.4->xgbse) (1.4)\n",
            "Requirement already satisfied: scipy>=1.2.0 in /usr/local/lib/python3.7/dist-packages (from lifelines>=0.25.4->xgbse) (1.4.1)\n",
            "Requirement already satisfied: matplotlib>=3.0 in /usr/local/lib/python3.7/dist-packages (from lifelines>=0.25.4->xgbse) (3.2.2)\n",
            "Collecting formulaic>=0.2.2\n",
            "  Downloading formulaic-0.3.4-py3-none-any.whl (68 kB)\n",
            "\u001b[K     |████████████████████████████████| 68 kB 4.4 MB/s \n",
            "\u001b[?25hCollecting autograd-gamma>=0.3\n",
            "  Downloading autograd-gamma-0.5.0.tar.gz (4.0 kB)\n",
            "Requirement already satisfied: future>=0.15.2 in /usr/local/lib/python3.7/dist-packages (from autograd>=1.3->lifelines>=0.25.4->xgbse) (0.16.0)\n",
            "Collecting interface-meta<2.0.0,>=1.2.0\n",
            "  Downloading interface_meta-1.3.0-py3-none-any.whl (14 kB)\n",
            "Collecting scipy>=1.2.0\n",
            "  Downloading scipy-1.7.3-cp37-cp37m-manylinux_2_12_x86_64.manylinux2010_x86_64.whl (38.1 MB)\n",
            "\u001b[K     |████████████████████████████████| 38.1 MB 53.1 MB/s \n",
            "\u001b[?25hRequirement already satisfied: wrapt>=1.0 in /usr/local/lib/python3.7/dist-packages (from formulaic>=0.2.2->lifelines>=0.25.4->xgbse) (1.14.1)\n",
            "Requirement already satisfied: astor>=0.8 in /usr/local/lib/python3.7/dist-packages (from formulaic>=0.2.2->lifelines>=0.25.4->xgbse) (0.8.1)\n",
            "Requirement already satisfied: python-dateutil>=2.1 in /usr/local/lib/python3.7/dist-packages (from matplotlib>=3.0->lifelines>=0.25.4->xgbse) (2.8.2)\n",
            "Requirement already satisfied: kiwisolver>=1.0.1 in /usr/local/lib/python3.7/dist-packages (from matplotlib>=3.0->lifelines>=0.25.4->xgbse) (1.4.2)\n",
            "Requirement already satisfied: cycler>=0.10 in /usr/local/lib/python3.7/dist-packages (from matplotlib>=3.0->lifelines>=0.25.4->xgbse) (0.11.0)\n",
            "Requirement already satisfied: pyparsing!=2.0.4,!=2.1.2,!=2.1.6,>=2.0.1 in /usr/local/lib/python3.7/dist-packages (from matplotlib>=3.0->lifelines>=0.25.4->xgbse) (3.0.9)\n",
            "Requirement already satisfied: typing-extensions in /usr/local/lib/python3.7/dist-packages (from kiwisolver>=1.0.1->matplotlib>=3.0->lifelines>=0.25.4->xgbse) (4.2.0)\n",
            "Requirement already satisfied: pytz>=2017.3 in /usr/local/lib/python3.7/dist-packages (from pandas>=1.0.*->xgbse) (2022.1)\n",
            "Requirement already satisfied: six>=1.5 in /usr/local/lib/python3.7/dist-packages (from python-dateutil>=2.1->matplotlib>=3.0->lifelines>=0.25.4->xgbse) (1.15.0)\n",
            "Requirement already satisfied: threadpoolctl>=2.0.0 in /usr/local/lib/python3.7/dist-packages (from scikit-learn>=0.22.2->xgbse) (3.1.0)\n",
            "Building wheels for collected packages: autograd-gamma\n",
            "  Building wheel for autograd-gamma (setup.py) ... \u001b[?25l\u001b[?25hdone\n",
            "  Created wheel for autograd-gamma: filename=autograd_gamma-0.5.0-py3-none-any.whl size=4048 sha256=62a2e53b7f815ec29a4c03da6882d355506933d442cf577eec1282a68b1eb172\n",
            "  Stored in directory: /root/.cache/pip/wheels/9f/01/ee/1331593abb5725ff7d8c1333aee93a50a1c29d6ddda9665c9f\n",
            "Successfully built autograd-gamma\n",
            "Installing collected packages: scipy, interface-meta, formulaic, autograd-gamma, xgboost, lifelines, xgbse\n",
            "  Attempting uninstall: scipy\n",
            "    Found existing installation: scipy 1.4.1\n",
            "    Uninstalling scipy-1.4.1:\n",
            "      Successfully uninstalled scipy-1.4.1\n",
            "  Attempting uninstall: xgboost\n",
            "    Found existing installation: xgboost 0.90\n",
            "    Uninstalling xgboost-0.90:\n",
            "      Successfully uninstalled xgboost-0.90\n",
            "\u001b[31mERROR: pip's dependency resolver does not currently take into account all the packages that are installed. This behaviour is the source of the following dependency conflicts.\n",
            "albumentations 0.1.12 requires imgaug<0.2.7,>=0.2.5, but you have imgaug 0.2.9 which is incompatible.\u001b[0m\n",
            "Successfully installed autograd-gamma-0.5.0 formulaic-0.3.4 interface-meta-1.3.0 lifelines-0.27.0 scipy-1.7.3 xgboost-1.6.1 xgbse-0.2.3\n"
          ]
        },
        {
          "output_type": "display_data",
          "data": {
            "application/vnd.colab-display-data+json": {
              "pip_warning": {
                "packages": [
                  "scipy"
                ]
              }
            }
          },
          "metadata": {}
        }
      ]
    },
    {
      "cell_type": "code",
      "source": [
        "PARAMS_XGB_AFT = {\n",
        "    'objective': 'survival:aft',\n",
        "    'eval_metric': 'aft-nloglik',\n",
        "    'aft_loss_distribution': 'extreme',\n",
        "    'aft_loss_distribution_scale': 0.5,\n",
        "    'tree_method': 'approx', \n",
        "    'learning_rate': 5e-2, \n",
        "    'max_depth': 8, \n",
        "    'booster':'dart',\n",
        "    'subsample':0.5,\n",
        "    'min_child_weight': 50,\n",
        "    'colsample_bynode':0.5\n",
        "}"
      ],
      "metadata": {
        "id": "D9amWitGVKH2"
      },
      "execution_count": 3,
      "outputs": []
    },
    {
      "cell_type": "code",
      "source": [
        "X = data.drop(['GRADE'], axis=1)\n",
        "y = convert_to_structured(data['GRADE'],data['BM545088.1'])\n",
        "\n",
        "X_train, X_valid,y_train, y_valid = train_test_split(X, y, test_size = 0.2, random_state=42)\n",
        "# converting to xgboost format\n",
        "dtrain = convert_data_to_xgb_format(X_train, y_train, 'survival:aft')\n",
        "dval = convert_data_to_xgb_format(X_valid, y_valid, 'survival:aft')\n",
        "\n",
        "# training model\n",
        "bst = xgb.train(\n",
        "    PARAMS_XGB_AFT,\n",
        "    dtrain,\n",
        "    num_boost_round=1000,\n",
        "    early_stopping_rounds=10,\n",
        "    evals=[(dval, 'val')],\n",
        "    verbose_eval=0\n",
        ")\n",
        "\n",
        "# predicting and evaluating\n",
        "preds = bst.predict(dval)\n",
        "cind = concordance_index(y_valid, -preds, risk_strategy='precomputed')\n",
        "print(f\"C-index: {cind:.3f}\")\n",
        "print(f\"Average survival time: {preds.mean():.0f} days\")"
      ],
      "metadata": {
        "colab": {
          "base_uri": "https://localhost:8080/"
        },
        "id": "th6nLpKVVTv4",
        "outputId": "545d9660-f520-4c21-9261-e75009a83c65"
      },
      "execution_count": 4,
      "outputs": [
        {
          "output_type": "stream",
          "name": "stdout",
          "text": [
            "C-index: 0.977\n",
            "Average survival time: 3 days\n"
          ]
        }
      ]
    },
    {
      "cell_type": "code",
      "source": [
        "X = data.drop(['GRADE'], axis=1)\n",
        "y = convert_to_structured(data['GRADE'],data['HOXC8'])\n",
        "\n",
        "X_train, X_valid,y_train, y_valid = train_test_split(X, y, test_size = 0.2, random_state=42)\n",
        "# converting to xgboost format\n",
        "dtrain = convert_data_to_xgb_format(X_train, y_train, 'survival:aft')\n",
        "dval = convert_data_to_xgb_format(X_valid, y_valid, 'survival:aft')\n",
        "\n",
        "# training model\n",
        "bst = xgb.train(\n",
        "    PARAMS_XGB_AFT,\n",
        "    dtrain,\n",
        "    num_boost_round=1000,\n",
        "    early_stopping_rounds=10,\n",
        "    evals=[(dval, 'val')],\n",
        "    verbose_eval=0\n",
        ")\n",
        "\n",
        "# predicting and evaluating\n",
        "preds = bst.predict(dval)\n",
        "cind = concordance_index(y_valid, -preds, risk_strategy='precomputed')\n",
        "print(f\"C-index: {cind:.3f}\")\n",
        "print(f\"Average survival time: {preds.mean():.0f} days\")"
      ],
      "metadata": {
        "colab": {
          "base_uri": "https://localhost:8080/"
        },
        "id": "1hK3yBn-VirY",
        "outputId": "4a889961-8631-4727-9399-dccb6e8538d2"
      },
      "execution_count": 5,
      "outputs": [
        {
          "output_type": "stream",
          "name": "stdout",
          "text": [
            "C-index: 0.977\n",
            "Average survival time: 3 days\n"
          ]
        }
      ]
    },
    {
      "cell_type": "code",
      "source": [
        "X = data.drop(['GRADE'], axis=1)\n",
        "y = convert_to_structured(data['GRADE'],data['FLJ20224'])\n",
        "\n",
        "X_train, X_valid,y_train, y_valid = train_test_split(X, y, test_size = 0.2, random_state=42)\n",
        "# converting to xgboost format\n",
        "dtrain = convert_data_to_xgb_format(X_train, y_train, 'survival:aft')\n",
        "dval = convert_data_to_xgb_format(X_valid, y_valid, 'survival:aft')\n",
        "\n",
        "# training model\n",
        "bst = xgb.train(\n",
        "    PARAMS_XGB_AFT,\n",
        "    dtrain,\n",
        "    num_boost_round=1000,\n",
        "    early_stopping_rounds=10,\n",
        "    evals=[(dval, 'val')],\n",
        "    verbose_eval=0\n",
        ")\n",
        "\n",
        "# predicting and evaluating\n",
        "preds = bst.predict(dval)\n",
        "cind = concordance_index(y_valid, -preds, risk_strategy='precomputed')\n",
        "print(f\"C-index: {cind:.3f}\")\n",
        "print(f\"Average survival time: {preds.mean():.0f} days\")"
      ],
      "metadata": {
        "colab": {
          "base_uri": "https://localhost:8080/"
        },
        "id": "dKbtSaY83Jii",
        "outputId": "f9c5caa0-f6d8-475a-d0d1-c96a4c5b2c7e"
      },
      "execution_count": 6,
      "outputs": [
        {
          "output_type": "stream",
          "name": "stdout",
          "text": [
            "C-index: 0.977\n",
            "Average survival time: 3 days\n"
          ]
        }
      ]
    },
    {
      "cell_type": "code",
      "source": [
        "X = data.drop(['GRADE'], axis=1)\n",
        "y = convert_to_structured(data['GRADE'],data['VSNL1'])\n",
        "\n",
        "X_train, X_valid,y_train, y_valid = train_test_split(X, y, test_size = 0.2, random_state=42)\n",
        "# converting to xgboost format\n",
        "dtrain = convert_data_to_xgb_format(X_train, y_train, 'survival:aft')\n",
        "dval = convert_data_to_xgb_format(X_valid, y_valid, 'survival:aft')\n",
        "\n",
        "# training model\n",
        "bst = xgb.train(\n",
        "    PARAMS_XGB_AFT,\n",
        "    dtrain,\n",
        "    num_boost_round=1000,\n",
        "    early_stopping_rounds=10,\n",
        "    evals=[(dval, 'val')],\n",
        "    verbose_eval=0\n",
        ")\n",
        "\n",
        "# predicting and evaluating\n",
        "preds = bst.predict(dval)\n",
        "cind = concordance_index(y_valid, -preds, risk_strategy='precomputed')\n",
        "print(f\"C-index: {cind:.3f}\")\n",
        "print(f\"Average survival time: {preds.mean():.0f} days\")"
      ],
      "metadata": {
        "colab": {
          "base_uri": "https://localhost:8080/"
        },
        "id": "bwdfgCx13R-z",
        "outputId": "04033c4c-6325-46e1-a4b3-e1e63256a0aa"
      },
      "execution_count": 7,
      "outputs": [
        {
          "output_type": "stream",
          "name": "stdout",
          "text": [
            "C-index: 0.977\n",
            "Average survival time: 3 days\n"
          ]
        }
      ]
    },
    {
      "cell_type": "code",
      "source": [
        "X = data.drop(['GRADE'], axis=1)\n",
        "y = convert_to_structured(data['GRADE'],data['I_1109138'])\n",
        "\n",
        "X_train, X_valid,y_train, y_valid = train_test_split(X, y, test_size = 0.2, random_state=42)\n",
        "# converting to xgboost format\n",
        "dtrain = convert_data_to_xgb_format(X_train, y_train, 'survival:aft')\n",
        "dval = convert_data_to_xgb_format(X_valid, y_valid, 'survival:aft')\n",
        "\n",
        "# training model\n",
        "bst = xgb.train(\n",
        "    PARAMS_XGB_AFT,\n",
        "    dtrain,\n",
        "    num_boost_round=1000,\n",
        "    early_stopping_rounds=10,\n",
        "    evals=[(dval, 'val')],\n",
        "    verbose_eval=0\n",
        ")\n",
        "\n",
        "# predicting and evaluating\n",
        "preds = bst.predict(dval)\n",
        "cind = concordance_index(y_valid, -preds, risk_strategy='precomputed')\n",
        "print(f\"C-index: {cind:.3f}\")\n",
        "print(f\"Average survival time: {preds.mean():.0f} days\")"
      ],
      "metadata": {
        "colab": {
          "base_uri": "https://localhost:8080/"
        },
        "id": "lRz9rZgB3Y3C",
        "outputId": "fec693cc-55da-41be-836d-899218c80433"
      },
      "execution_count": 8,
      "outputs": [
        {
          "output_type": "stream",
          "name": "stdout",
          "text": [
            "C-index: 0.977\n",
            "Average survival time: 3 days\n"
          ]
        }
      ]
    },
    {
      "cell_type": "code",
      "source": [
        "X = data.drop(['GRADE'], axis=1)\n",
        "y = convert_to_structured(data['GRADE'],data['ATP7B'])\n",
        "\n",
        "X_train, X_valid,y_train, y_valid = train_test_split(X, y, test_size = 0.2, random_state=42)\n",
        "# converting to xgboost format\n",
        "dtrain = convert_data_to_xgb_format(X_train, y_train, 'survival:aft')\n",
        "dval = convert_data_to_xgb_format(X_valid, y_valid, 'survival:aft')\n",
        "\n",
        "# training model\n",
        "bst = xgb.train(\n",
        "    PARAMS_XGB_AFT,\n",
        "    dtrain,\n",
        "    num_boost_round=1000,\n",
        "    early_stopping_rounds=10,\n",
        "    evals=[(dval, 'val')],\n",
        "    verbose_eval=0\n",
        ")\n",
        "\n",
        "# predicting and evaluating\n",
        "preds = bst.predict(dval)\n",
        "cind = concordance_index(y_valid, -preds, risk_strategy='precomputed')\n",
        "print(f\"C-index: {cind:.3f}\")\n",
        "print(f\"Average survival time: {preds.mean():.0f} days\")"
      ],
      "metadata": {
        "colab": {
          "base_uri": "https://localhost:8080/"
        },
        "id": "ItRiww-M3eal",
        "outputId": "3f2a80fd-da40-4c03-cefc-b40832db93f8"
      },
      "execution_count": 9,
      "outputs": [
        {
          "output_type": "stream",
          "name": "stdout",
          "text": [
            "C-index: 0.977\n",
            "Average survival time: 3 days\n"
          ]
        }
      ]
    },
    {
      "cell_type": "code",
      "source": [
        "X = data.drop(['GRADE'], axis=1)\n",
        "y = convert_to_structured(data['GRADE'],data['RRM2'])\n",
        "\n",
        "X_train, X_valid,y_train, y_valid = train_test_split(X, y, test_size = 0.2, random_state=42)\n",
        "# converting to xgboost format\n",
        "dtrain = convert_data_to_xgb_format(X_train, y_train, 'survival:aft')\n",
        "dval = convert_data_to_xgb_format(X_valid, y_valid, 'survival:aft')\n",
        "\n",
        "# training model\n",
        "bst = xgb.train(\n",
        "    PARAMS_XGB_AFT,\n",
        "    dtrain,\n",
        "    num_boost_round=1000,\n",
        "    early_stopping_rounds=10,\n",
        "    evals=[(dval, 'val')],\n",
        "    verbose_eval=0\n",
        ")\n",
        "\n",
        "# predicting and evaluating\n",
        "preds = bst.predict(dval)\n",
        "cind = concordance_index(y_valid, -preds, risk_strategy='precomputed')\n",
        "print(f\"C-index: {cind:.3f}\")\n",
        "print(f\"Average survival time: {preds.mean():.0f} days\")"
      ],
      "metadata": {
        "colab": {
          "base_uri": "https://localhost:8080/"
        },
        "id": "jAdD0-9b3kKl",
        "outputId": "cccb07cb-e8ff-4fbd-b850-25793b908cb0"
      },
      "execution_count": 10,
      "outputs": [
        {
          "output_type": "stream",
          "name": "stdout",
          "text": [
            "C-index: 0.977\n",
            "Average survival time: 3 days\n"
          ]
        }
      ]
    },
    {
      "cell_type": "code",
      "source": [
        "\n",
        "X = data.drop(['GRADE'], axis=1)\n",
        "y = convert_to_structured(data['GRADE'],data['BIRC5/// EPR-1'])\n",
        "\n",
        "X_train, X_valid,y_train, y_valid = train_test_split(X, y, test_size = 0.2, random_state=42)\n",
        "# converting to xgboost format\n",
        "dtrain = convert_data_to_xgb_format(X_train, y_train, 'survival:aft')\n",
        "dval = convert_data_to_xgb_format(X_valid, y_valid, 'survival:aft')\n",
        "\n",
        "# training model\n",
        "bst = xgb.train(\n",
        "    PARAMS_XGB_AFT,\n",
        "    dtrain,\n",
        "    num_boost_round=1000,\n",
        "    early_stopping_rounds=10,\n",
        "    evals=[(dval, 'val')],\n",
        "    verbose_eval=0\n",
        ")\n",
        "\n",
        "# predicting and evaluating\n",
        "preds = bst.predict(dval)\n",
        "cind = concordance_index(y_valid, -preds, risk_strategy='precomputed')\n",
        "print(f\"C-index: {cind:.3f}\")\n",
        "print(f\"Average survival time: {preds.mean():.0f} days\")"
      ],
      "metadata": {
        "colab": {
          "base_uri": "https://localhost:8080/"
        },
        "id": "HZQ5E2zZ3qMB",
        "outputId": "f1ddef95-90ac-4487-8d67-d4d36ff44f97"
      },
      "execution_count": null,
      "outputs": [
        {
          "output_type": "stream",
          "name": "stdout",
          "text": [
            "C-index: 0.940\n",
            "Average survival time: 2 days\n"
          ]
        }
      ]
    },
    {
      "cell_type": "code",
      "source": [
        "X = data.drop(['GRADE'], axis=1)\n",
        "y = convert_to_structured(data['GRADE'],data['RRAS2'])\n",
        "\n",
        "X_train, X_valid,y_train, y_valid = train_test_split(X, y, test_size = 0.2, random_state=42)\n",
        "# converting to xgboost format\n",
        "dtrain = convert_data_to_xgb_format(X_train, y_train, 'survival:aft')\n",
        "dval = convert_data_to_xgb_format(X_valid, y_valid, 'survival:aft')\n",
        "\n",
        "# training model\n",
        "bst = xgb.train(\n",
        "    PARAMS_XGB_AFT,\n",
        "    dtrain,\n",
        "    num_boost_round=1000,\n",
        "    early_stopping_rounds=10,\n",
        "    evals=[(dval, 'val')],\n",
        "    verbose_eval=0\n",
        ")\n",
        "\n",
        "# predicting and evaluating\n",
        "preds = bst.predict(dval)\n",
        "cind = concordance_index(y_valid, -preds, risk_strategy='precomputed')\n",
        "print(f\"C-index: {cind:.3f}\")\n",
        "print(f\"Average survival time: {preds.mean():.0f} days\")"
      ],
      "metadata": {
        "colab": {
          "base_uri": "https://localhost:8080/"
        },
        "id": "hR3Zc6RY37b4",
        "outputId": "09af834d-0736-4dc8-da7f-598230f4dc8c"
      },
      "execution_count": null,
      "outputs": [
        {
          "output_type": "stream",
          "name": "stdout",
          "text": [
            "C-index: 0.871\n",
            "Average survival time: 2 days\n"
          ]
        }
      ]
    },
    {
      "cell_type": "code",
      "source": [
        ""
      ],
      "metadata": {
        "id": "J6SBT1-gUdxw"
      },
      "execution_count": null,
      "outputs": []
    }
  ]
}