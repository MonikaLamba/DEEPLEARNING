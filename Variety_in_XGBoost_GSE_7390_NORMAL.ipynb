{
  "nbformat": 4,
  "nbformat_minor": 0,
  "metadata": {
    "colab": {
      "name": "Variety in XGBoost_GSE_7390_NORMAL.ipynb",
      "provenance": [],
      "authorship_tag": "ABX9TyNOcOc7det4tQWX7unrEECW",
      "include_colab_link": true
    },
    "kernelspec": {
      "name": "python3",
      "display_name": "Python 3"
    },
    "language_info": {
      "name": "python"
    }
  },
  "cells": [
    {
      "cell_type": "markdown",
      "metadata": {
        "id": "view-in-github",
        "colab_type": "text"
      },
      "source": [
        "<a href=\"https://colab.research.google.com/github/MonikaLamba/DEEPLEARNING/blob/master/Variety_in_XGBoost_GSE_7390_NORMAL.ipynb\" target=\"_parent\"><img src=\"https://colab.research.google.com/assets/colab-badge.svg\" alt=\"Open In Colab\"/></a>"
      ]
    },
    {
      "cell_type": "code",
      "execution_count": 1,
      "metadata": {
        "id": "mEFKLb53U1aW"
      },
      "outputs": [],
      "source": [
        "import numpy as np\n",
        "import pandas as pd\n",
        "import matplotlib.pyplot as plt\n",
        "from sklearn.datasets import make_classification\n",
        "\n",
        "from sklearn.model_selection import train_test_split\n",
        "from sklearn.ensemble import RandomForestClassifier\n",
        "\n",
        "data = pd.read_csv('/content/GSE7390_PI.csv')\n",
        "y = (data['Grade'])  # Convert from string \"Yes\"/\"No\" to binary\n",
        "feature_names = [i for i in data.columns]\n",
        "X = data[feature_names]"
      ]
    },
    {
      "cell_type": "code",
      "source": [
        "from tqdm import tqdm\n",
        "!pip install xgbse\n",
        "# models and metrics\n",
        "import xgboost as xgb\n",
        "from sklearn.model_selection import train_test_split\n",
        "from xgbse.metrics import concordance_index\n",
        "from xgbse.non_parametric import get_time_bins\n",
        "from xgbse import (\n",
        "    XGBSEKaplanNeighbors,\n",
        "    XGBSEKaplanTree,\n",
        "    XGBSEDebiasedBCE,\n",
        "    XGBSEBootstrapEstimator\n",
        ")\n",
        "from xgbse.converters import (\n",
        "    convert_data_to_xgb_format,\n",
        "    convert_to_structured\n",
        ")\n",
        "\n",
        "# better plots\n",
        "from IPython.display import set_matplotlib_formats\n",
        "set_matplotlib_formats('retina')\n",
        "plt.style.use('bmh')\n",
        "\n",
        "# setting seed\n",
        "np.random.seed(42)"
      ],
      "metadata": {
        "colab": {
          "base_uri": "https://localhost:8080/",
          "height": 1000
        },
        "id": "UruazUDPVGf0",
        "outputId": "205b1c0a-13ae-4a54-f39b-ab21b0b17629"
      },
      "execution_count": 2,
      "outputs": [
        {
          "output_type": "stream",
          "name": "stdout",
          "text": [
            "Looking in indexes: https://pypi.org/simple, https://us-python.pkg.dev/colab-wheels/public/simple/\n",
            "Collecting xgbse\n",
            "  Downloading xgbse-0.2.3-py3-none-any.whl (35 kB)\n",
            "Requirement already satisfied: pandas>=1.0.* in /usr/local/lib/python3.7/dist-packages (from xgbse) (1.3.5)\n",
            "Collecting xgboost>=1.4.0\n",
            "  Downloading xgboost-1.6.1-py3-none-manylinux2014_x86_64.whl (192.9 MB)\n",
            "\u001b[K     |████████████████████████████████| 192.9 MB 53 kB/s \n",
            "\u001b[?25hRequirement already satisfied: numpy>=1.18.4 in /usr/local/lib/python3.7/dist-packages (from xgbse) (1.21.6)\n",
            "Requirement already satisfied: joblib>=0.15.1 in /usr/local/lib/python3.7/dist-packages (from xgbse) (1.1.0)\n",
            "Requirement already satisfied: scikit-learn>=0.22.2 in /usr/local/lib/python3.7/dist-packages (from xgbse) (1.0.2)\n",
            "Collecting lifelines>=0.25.4\n",
            "  Downloading lifelines-0.27.0-py3-none-any.whl (349 kB)\n",
            "\u001b[K     |████████████████████████████████| 349 kB 40.6 MB/s \n",
            "\u001b[?25hRequirement already satisfied: autograd>=1.3 in /usr/local/lib/python3.7/dist-packages (from lifelines>=0.25.4->xgbse) (1.4)\n",
            "Collecting formulaic>=0.2.2\n",
            "  Downloading formulaic-0.3.4-py3-none-any.whl (68 kB)\n",
            "\u001b[K     |████████████████████████████████| 68 kB 3.9 MB/s \n",
            "\u001b[?25hRequirement already satisfied: scipy>=1.2.0 in /usr/local/lib/python3.7/dist-packages (from lifelines>=0.25.4->xgbse) (1.4.1)\n",
            "Collecting autograd-gamma>=0.3\n",
            "  Downloading autograd-gamma-0.5.0.tar.gz (4.0 kB)\n",
            "Requirement already satisfied: matplotlib>=3.0 in /usr/local/lib/python3.7/dist-packages (from lifelines>=0.25.4->xgbse) (3.2.2)\n",
            "Requirement already satisfied: future>=0.15.2 in /usr/local/lib/python3.7/dist-packages (from autograd>=1.3->lifelines>=0.25.4->xgbse) (0.16.0)\n",
            "Requirement already satisfied: astor>=0.8 in /usr/local/lib/python3.7/dist-packages (from formulaic>=0.2.2->lifelines>=0.25.4->xgbse) (0.8.1)\n",
            "Collecting scipy>=1.2.0\n",
            "  Downloading scipy-1.7.3-cp37-cp37m-manylinux_2_12_x86_64.manylinux2010_x86_64.whl (38.1 MB)\n",
            "\u001b[K     |████████████████████████████████| 38.1 MB 1.6 MB/s \n",
            "\u001b[?25hCollecting interface-meta<2.0.0,>=1.2.0\n",
            "  Downloading interface_meta-1.3.0-py3-none-any.whl (14 kB)\n",
            "Requirement already satisfied: wrapt>=1.0 in /usr/local/lib/python3.7/dist-packages (from formulaic>=0.2.2->lifelines>=0.25.4->xgbse) (1.14.1)\n",
            "Requirement already satisfied: pyparsing!=2.0.4,!=2.1.2,!=2.1.6,>=2.0.1 in /usr/local/lib/python3.7/dist-packages (from matplotlib>=3.0->lifelines>=0.25.4->xgbse) (3.0.9)\n",
            "Requirement already satisfied: kiwisolver>=1.0.1 in /usr/local/lib/python3.7/dist-packages (from matplotlib>=3.0->lifelines>=0.25.4->xgbse) (1.4.2)\n",
            "Requirement already satisfied: python-dateutil>=2.1 in /usr/local/lib/python3.7/dist-packages (from matplotlib>=3.0->lifelines>=0.25.4->xgbse) (2.8.2)\n",
            "Requirement already satisfied: cycler>=0.10 in /usr/local/lib/python3.7/dist-packages (from matplotlib>=3.0->lifelines>=0.25.4->xgbse) (0.11.0)\n",
            "Requirement already satisfied: typing-extensions in /usr/local/lib/python3.7/dist-packages (from kiwisolver>=1.0.1->matplotlib>=3.0->lifelines>=0.25.4->xgbse) (4.2.0)\n",
            "Requirement already satisfied: pytz>=2017.3 in /usr/local/lib/python3.7/dist-packages (from pandas>=1.0.*->xgbse) (2022.1)\n",
            "Requirement already satisfied: six>=1.5 in /usr/local/lib/python3.7/dist-packages (from python-dateutil>=2.1->matplotlib>=3.0->lifelines>=0.25.4->xgbse) (1.15.0)\n",
            "Requirement already satisfied: threadpoolctl>=2.0.0 in /usr/local/lib/python3.7/dist-packages (from scikit-learn>=0.22.2->xgbse) (3.1.0)\n",
            "Building wheels for collected packages: autograd-gamma\n",
            "  Building wheel for autograd-gamma (setup.py) ... \u001b[?25l\u001b[?25hdone\n",
            "  Created wheel for autograd-gamma: filename=autograd_gamma-0.5.0-py3-none-any.whl size=4048 sha256=c40224c08450edbc6a6ced1617b6c5ed01310ad98f2539f1efc206edae6ec7bb\n",
            "  Stored in directory: /root/.cache/pip/wheels/9f/01/ee/1331593abb5725ff7d8c1333aee93a50a1c29d6ddda9665c9f\n",
            "Successfully built autograd-gamma\n",
            "Installing collected packages: scipy, interface-meta, formulaic, autograd-gamma, xgboost, lifelines, xgbse\n",
            "  Attempting uninstall: scipy\n",
            "    Found existing installation: scipy 1.4.1\n",
            "    Uninstalling scipy-1.4.1:\n",
            "      Successfully uninstalled scipy-1.4.1\n",
            "  Attempting uninstall: xgboost\n",
            "    Found existing installation: xgboost 0.90\n",
            "    Uninstalling xgboost-0.90:\n",
            "      Successfully uninstalled xgboost-0.90\n",
            "\u001b[31mERROR: pip's dependency resolver does not currently take into account all the packages that are installed. This behaviour is the source of the following dependency conflicts.\n",
            "albumentations 0.1.12 requires imgaug<0.2.7,>=0.2.5, but you have imgaug 0.2.9 which is incompatible.\u001b[0m\n",
            "Successfully installed autograd-gamma-0.5.0 formulaic-0.3.4 interface-meta-1.3.0 lifelines-0.27.0 scipy-1.7.3 xgboost-1.6.1 xgbse-0.2.3\n"
          ]
        },
        {
          "output_type": "display_data",
          "data": {
            "application/vnd.colab-display-data+json": {
              "pip_warning": {
                "packages": [
                  "scipy"
                ]
              }
            }
          },
          "metadata": {}
        }
      ]
    },
    {
      "cell_type": "code",
      "source": [
        "PARAMS_XGB_AFT = {\n",
        "    'objective': 'survival:aft',\n",
        "    'eval_metric': 'aft-nloglik',\n",
        "    'aft_loss_distribution': 'normal',\n",
        "    'aft_loss_distribution_scale': 0.5,\n",
        "    'tree_method': 'approx', \n",
        "    'learning_rate': 5e-2, \n",
        "    'max_depth': 8, \n",
        "    'booster':'dart',\n",
        "    'subsample':0.5,\n",
        "    'min_child_weight': 50,\n",
        "    'colsample_bynode':0.5\n",
        "}"
      ],
      "metadata": {
        "id": "D9amWitGVKH2"
      },
      "execution_count": 3,
      "outputs": []
    },
    {
      "cell_type": "code",
      "source": [
        "X = data.drop(['Grade'], axis=1)\n",
        "y = convert_to_structured(data['Grade'],data['CCNB2'])\n",
        "\n",
        "X_train, X_valid,y_train, y_valid = train_test_split(X, y, test_size = 0.2, random_state=42)\n",
        "# converting to xgboost format\n",
        "dtrain = convert_data_to_xgb_format(X_train, y_train, 'survival:aft')\n",
        "dval = convert_data_to_xgb_format(X_valid, y_valid, 'survival:aft')\n",
        "\n",
        "# training model\n",
        "bst = xgb.train(\n",
        "    PARAMS_XGB_AFT,\n",
        "    dtrain,\n",
        "    num_boost_round=1000,\n",
        "    early_stopping_rounds=10,\n",
        "    evals=[(dval, 'val')],\n",
        "    verbose_eval=0\n",
        ")\n",
        "\n",
        "# predicting and evaluating\n",
        "preds = bst.predict(dval)\n",
        "cind = concordance_index(y_valid, -preds, risk_strategy='precomputed')\n",
        "print(f\"C-index: {cind:.3f}\")\n",
        "print(f\"Average survival time: {preds.mean():.0f} days\")"
      ],
      "metadata": {
        "colab": {
          "base_uri": "https://localhost:8080/"
        },
        "id": "th6nLpKVVTv4",
        "outputId": "b7e63c4c-b234-458e-a632-3c3b17aa1294"
      },
      "execution_count": 4,
      "outputs": [
        {
          "output_type": "stream",
          "name": "stdout",
          "text": [
            "C-index: 0.560\n",
            "Average survival time: 2 days\n"
          ]
        }
      ]
    },
    {
      "cell_type": "code",
      "source": [
        "X = data.drop(['Grade'], axis=1)\n",
        "y = convert_to_structured(data['Grade'],data['FOSB'])\n",
        "\n",
        "X_train, X_valid,y_train, y_valid = train_test_split(X, y, test_size = 0.2, random_state=42)\n",
        "# converting to xgboost format\n",
        "dtrain = convert_data_to_xgb_format(X_train, y_train, 'survival:aft')\n",
        "dval = convert_data_to_xgb_format(X_valid, y_valid, 'survival:aft')\n",
        "\n",
        "# training model\n",
        "bst = xgb.train(\n",
        "    PARAMS_XGB_AFT,\n",
        "    dtrain,\n",
        "    num_boost_round=1000,\n",
        "    early_stopping_rounds=10,\n",
        "    evals=[(dval, 'val')],\n",
        "    verbose_eval=0\n",
        ")\n",
        "\n",
        "# predicting and evaluating\n",
        "preds = bst.predict(dval)\n",
        "cind = concordance_index(y_valid, -preds, risk_strategy='precomputed')\n",
        "print(f\"C-index: {cind:.3f}\")\n",
        "print(f\"Average survival time: {preds.mean():.0f} days\")"
      ],
      "metadata": {
        "colab": {
          "base_uri": "https://localhost:8080/"
        },
        "id": "1hK3yBn-VirY",
        "outputId": "161bc049-3652-4afb-dcf3-230c8ce4c058"
      },
      "execution_count": 5,
      "outputs": [
        {
          "output_type": "stream",
          "name": "stdout",
          "text": [
            "C-index: 0.560\n",
            "Average survival time: 2 days\n"
          ]
        }
      ]
    },
    {
      "cell_type": "code",
      "source": [
        "X = data.drop(['Grade'], axis=1)\n",
        "y = convert_to_structured(data['Grade'],data['PLAGL2'])\n",
        "\n",
        "X_train, X_valid,y_train, y_valid = train_test_split(X, y, test_size = 0.2, random_state=42)\n",
        "# converting to xgboost format\n",
        "dtrain = convert_data_to_xgb_format(X_train, y_train, 'survival:aft')\n",
        "dval = convert_data_to_xgb_format(X_valid, y_valid, 'survival:aft')\n",
        "\n",
        "# training model\n",
        "bst = xgb.train(\n",
        "    PARAMS_XGB_AFT,\n",
        "    dtrain,\n",
        "    num_boost_round=1000,\n",
        "    early_stopping_rounds=10,\n",
        "    evals=[(dval, 'val')],\n",
        "    verbose_eval=0\n",
        ")\n",
        "\n",
        "# predicting and evaluating\n",
        "preds = bst.predict(dval)\n",
        "cind = concordance_index(y_valid, -preds, risk_strategy='precomputed')\n",
        "print(f\"C-index: {cind:.3f}\")\n",
        "print(f\"Average survival time: {preds.mean():.0f} days\")"
      ],
      "metadata": {
        "colab": {
          "base_uri": "https://localhost:8080/"
        },
        "id": "dKbtSaY83Jii",
        "outputId": "8a10d60a-ba51-4a97-90ed-8f41324f65d5"
      },
      "execution_count": 6,
      "outputs": [
        {
          "output_type": "stream",
          "name": "stdout",
          "text": [
            "C-index: 0.560\n",
            "Average survival time: 2 days\n"
          ]
        }
      ]
    },
    {
      "cell_type": "code",
      "source": [
        "X = data.drop(['Grade'], axis=1)\n",
        "y = convert_to_structured(data['Grade'],data['E2F3'])\n",
        "\n",
        "X_train, X_valid,y_train, y_valid = train_test_split(X, y, test_size = 0.2, random_state=42)\n",
        "# converting to xgboost format\n",
        "dtrain = convert_data_to_xgb_format(X_train, y_train, 'survival:aft')\n",
        "dval = convert_data_to_xgb_format(X_valid, y_valid, 'survival:aft')\n",
        "\n",
        "# training model\n",
        "bst = xgb.train(\n",
        "    PARAMS_XGB_AFT,\n",
        "    dtrain,\n",
        "    num_boost_round=1000,\n",
        "    early_stopping_rounds=10,\n",
        "    evals=[(dval, 'val')],\n",
        "    verbose_eval=0\n",
        ")\n",
        "\n",
        "# predicting and evaluating\n",
        "preds = bst.predict(dval)\n",
        "cind = concordance_index(y_valid, -preds, risk_strategy='precomputed')\n",
        "print(f\"C-index: {cind:.3f}\")\n",
        "print(f\"Average survival time: {preds.mean():.0f} days\")"
      ],
      "metadata": {
        "colab": {
          "base_uri": "https://localhost:8080/"
        },
        "id": "bwdfgCx13R-z",
        "outputId": "806afc65-560b-4d44-f5bf-9bd3fb7a57cd"
      },
      "execution_count": 7,
      "outputs": [
        {
          "output_type": "stream",
          "name": "stdout",
          "text": [
            "C-index: 0.560\n",
            "Average survival time: 2 days\n"
          ]
        }
      ]
    },
    {
      "cell_type": "code",
      "source": [
        "X = data.drop(['Grade'], axis=1)\n",
        "y = convert_to_structured(data['Grade'],data['TPD52L1'])\n",
        "\n",
        "X_train, X_valid,y_train, y_valid = train_test_split(X, y, test_size = 0.2, random_state=42)\n",
        "# converting to xgboost format\n",
        "dtrain = convert_data_to_xgb_format(X_train, y_train, 'survival:aft')\n",
        "dval = convert_data_to_xgb_format(X_valid, y_valid, 'survival:aft')\n",
        "\n",
        "# training model\n",
        "bst = xgb.train(\n",
        "    PARAMS_XGB_AFT,\n",
        "    dtrain,\n",
        "    num_boost_round=1000,\n",
        "    early_stopping_rounds=10,\n",
        "    evals=[(dval, 'val')],\n",
        "    verbose_eval=0\n",
        ")\n",
        "\n",
        "# predicting and evaluating\n",
        "preds = bst.predict(dval)\n",
        "cind = concordance_index(y_valid, -preds, risk_strategy='precomputed')\n",
        "print(f\"C-index: {cind:.3f}\")\n",
        "print(f\"Average survival time: {preds.mean():.0f} days\")"
      ],
      "metadata": {
        "colab": {
          "base_uri": "https://localhost:8080/"
        },
        "id": "lRz9rZgB3Y3C",
        "outputId": "bdfa958b-7e7e-4d77-9689-87fafc937f31"
      },
      "execution_count": 8,
      "outputs": [
        {
          "output_type": "stream",
          "name": "stdout",
          "text": [
            "C-index: 0.560\n",
            "Average survival time: 2 days\n"
          ]
        }
      ]
    },
    {
      "cell_type": "code",
      "source": [
        "X = data.drop(['Grade'], axis=1)\n",
        "y = convert_to_structured(data['Grade'],data['TGFBR3'])\n",
        "\n",
        "X_train, X_valid,y_train, y_valid = train_test_split(X, y, test_size = 0.2, random_state=42)\n",
        "# converting to xgboost format\n",
        "dtrain = convert_data_to_xgb_format(X_train, y_train, 'survival:aft')\n",
        "dval = convert_data_to_xgb_format(X_valid, y_valid, 'survival:aft')\n",
        "\n",
        "# training model\n",
        "bst = xgb.train(\n",
        "    PARAMS_XGB_AFT,\n",
        "    dtrain,\n",
        "    num_boost_round=1000,\n",
        "    early_stopping_rounds=10,\n",
        "    evals=[(dval, 'val')],\n",
        "    verbose_eval=0\n",
        ")\n",
        "\n",
        "# predicting and evaluating\n",
        "preds = bst.predict(dval)\n",
        "cind = concordance_index(y_valid, -preds, risk_strategy='precomputed')\n",
        "print(f\"C-index: {cind:.3f}\")\n",
        "print(f\"Average survival time: {preds.mean():.0f} days\")"
      ],
      "metadata": {
        "colab": {
          "base_uri": "https://localhost:8080/"
        },
        "id": "ItRiww-M3eal",
        "outputId": "ed9930b9-1221-40bc-970d-7e99f0263b4b"
      },
      "execution_count": 9,
      "outputs": [
        {
          "output_type": "stream",
          "name": "stdout",
          "text": [
            "C-index: 0.560\n",
            "Average survival time: 2 days\n"
          ]
        }
      ]
    },
    {
      "cell_type": "code",
      "source": [
        "X = data.drop(['Grade'], axis=1)\n",
        "y = convert_to_structured(data['Grade'],data['MELK'])\n",
        "\n",
        "X_train, X_valid,y_train, y_valid = train_test_split(X, y, test_size = 0.2, random_state=42)\n",
        "# converting to xgboost format\n",
        "dtrain = convert_data_to_xgb_format(X_train, y_train, 'survival:aft')\n",
        "dval = convert_data_to_xgb_format(X_valid, y_valid, 'survival:aft')\n",
        "\n",
        "# training model\n",
        "bst = xgb.train(\n",
        "    PARAMS_XGB_AFT,\n",
        "    dtrain,\n",
        "    num_boost_round=1000,\n",
        "    early_stopping_rounds=10,\n",
        "    evals=[(dval, 'val')],\n",
        "    verbose_eval=0\n",
        ")\n",
        "\n",
        "# predicting and evaluating\n",
        "preds = bst.predict(dval)\n",
        "cind = concordance_index(y_valid, -preds, risk_strategy='precomputed')\n",
        "print(f\"C-index: {cind:.3f}\")\n",
        "print(f\"Average survival time: {preds.mean():.0f} days\")"
      ],
      "metadata": {
        "colab": {
          "base_uri": "https://localhost:8080/"
        },
        "id": "jAdD0-9b3kKl",
        "outputId": "8bf6553b-ea8a-4cb2-f7cf-32bb64675912"
      },
      "execution_count": 10,
      "outputs": [
        {
          "output_type": "stream",
          "name": "stdout",
          "text": [
            "C-index: 0.560\n",
            "Average survival time: 2 days\n"
          ]
        }
      ]
    },
    {
      "cell_type": "code",
      "source": [
        "\n",
        "X = data.drop(['Grade'], axis=1)\n",
        "y = convert_to_structured(data['Grade'],data['SPTBN2'])\n",
        "\n",
        "X_train, X_valid,y_train, y_valid = train_test_split(X, y, test_size = 0.2, random_state=42)\n",
        "# converting to xgboost format\n",
        "dtrain = convert_data_to_xgb_format(X_train, y_train, 'survival:aft')\n",
        "dval = convert_data_to_xgb_format(X_valid, y_valid, 'survival:aft')\n",
        "\n",
        "# training model\n",
        "bst = xgb.train(\n",
        "    PARAMS_XGB_AFT,\n",
        "    dtrain,\n",
        "    num_boost_round=1000,\n",
        "    early_stopping_rounds=10,\n",
        "    evals=[(dval, 'val')],\n",
        "    verbose_eval=0\n",
        ")\n",
        "\n",
        "# predicting and evaluating\n",
        "preds = bst.predict(dval)\n",
        "cind = concordance_index(y_valid, -preds, risk_strategy='precomputed')\n",
        "print(f\"C-index: {cind:.3f}\")\n",
        "print(f\"Average survival time: {preds.mean():.0f} days\")"
      ],
      "metadata": {
        "colab": {
          "base_uri": "https://localhost:8080/"
        },
        "id": "HZQ5E2zZ3qMB",
        "outputId": "d54793a5-914b-4092-cf0c-28f22c1d2836"
      },
      "execution_count": 11,
      "outputs": [
        {
          "output_type": "stream",
          "name": "stdout",
          "text": [
            "C-index: 0.560\n",
            "Average survival time: 2 days\n"
          ]
        }
      ]
    },
    {
      "cell_type": "code",
      "source": [
        "X = data.drop(['Grade'], axis=1)\n",
        "y = convert_to_structured(data['Grade'],data['PSMC3IP'])\n",
        "\n",
        "X_train, X_valid,y_train, y_valid = train_test_split(X, y, test_size = 0.2, random_state=42)\n",
        "# converting to xgboost format\n",
        "dtrain = convert_data_to_xgb_format(X_train, y_train, 'survival:aft')\n",
        "dval = convert_data_to_xgb_format(X_valid, y_valid, 'survival:aft')\n",
        "\n",
        "# training model\n",
        "bst = xgb.train(\n",
        "    PARAMS_XGB_AFT,\n",
        "    dtrain,\n",
        "    num_boost_round=1000,\n",
        "    early_stopping_rounds=10,\n",
        "    evals=[(dval, 'val')],\n",
        "    verbose_eval=0\n",
        ")\n",
        "\n",
        "# predicting and evaluating\n",
        "preds = bst.predict(dval)\n",
        "cind = concordance_index(y_valid, -preds, risk_strategy='precomputed')\n",
        "print(f\"C-index: {cind:.3f}\")\n",
        "print(f\"Average survival time: {preds.mean():.0f} days\")"
      ],
      "metadata": {
        "id": "hR3Zc6RY37b4",
        "colab": {
          "base_uri": "https://localhost:8080/"
        },
        "outputId": "76dd939e-a9b1-4b7b-9041-806ddf8e8596"
      },
      "execution_count": 12,
      "outputs": [
        {
          "output_type": "stream",
          "name": "stdout",
          "text": [
            "C-index: 0.560\n",
            "Average survival time: 2 days\n"
          ]
        }
      ]
    },
    {
      "cell_type": "code",
      "source": [
        "X = data.drop(['Grade'], axis=1)\n",
        "y = convert_to_structured(data['Grade'],data['NMU'])\n",
        "\n",
        "X_train, X_valid,y_train, y_valid = train_test_split(X, y, test_size = 0.2, random_state=42)\n",
        "# converting to xgboost format\n",
        "dtrain = convert_data_to_xgb_format(X_train, y_train, 'survival:aft')\n",
        "dval = convert_data_to_xgb_format(X_valid, y_valid, 'survival:aft')\n",
        "\n",
        "# training model\n",
        "bst = xgb.train(\n",
        "    PARAMS_XGB_AFT,\n",
        "    dtrain,\n",
        "    num_boost_round=1000,\n",
        "    early_stopping_rounds=10,\n",
        "    evals=[(dval, 'val')],\n",
        "    verbose_eval=0\n",
        ")\n",
        "\n",
        "# predicting and evaluating\n",
        "preds = bst.predict(dval)\n",
        "cind = concordance_index(y_valid, -preds, risk_strategy='precomputed')\n",
        "print(f\"C-index: {cind:.3f}\")\n",
        "print(f\"Average survival time: {preds.mean():.0f} days\")"
      ],
      "metadata": {
        "id": "ywIviSpYSIo7",
        "colab": {
          "base_uri": "https://localhost:8080/"
        },
        "outputId": "020a7f00-7b85-4402-e61b-75340078d525"
      },
      "execution_count": 13,
      "outputs": [
        {
          "output_type": "stream",
          "name": "stdout",
          "text": [
            "C-index: 0.560\n",
            "Average survival time: 2 days\n"
          ]
        }
      ]
    },
    {
      "cell_type": "code",
      "source": [
        "X = data.drop(['Grade'], axis=1)\n",
        "y = convert_to_structured(data['Grade'],data['GINS1'])\n",
        "\n",
        "X_train, X_valid,y_train, y_valid = train_test_split(X, y, test_size = 0.2, random_state=42)\n",
        "# converting to xgboost format\n",
        "dtrain = convert_data_to_xgb_format(X_train, y_train, 'survival:aft')\n",
        "dval = convert_data_to_xgb_format(X_valid, y_valid, 'survival:aft')\n",
        "\n",
        "# training model\n",
        "bst = xgb.train(\n",
        "    PARAMS_XGB_AFT,\n",
        "    dtrain,\n",
        "    num_boost_round=1000,\n",
        "    early_stopping_rounds=10,\n",
        "    evals=[(dval, 'val')],\n",
        "    verbose_eval=0\n",
        ")\n",
        "\n",
        "# predicting and evaluating\n",
        "preds = bst.predict(dval)\n",
        "cind = concordance_index(y_valid, -preds, risk_strategy='precomputed')\n",
        "print(f\"C-index: {cind:.3f}\")\n",
        "print(f\"Average survival time: {preds.mean():.0f} days\")"
      ],
      "metadata": {
        "id": "JVGZ-DFTbtIl",
        "colab": {
          "base_uri": "https://localhost:8080/"
        },
        "outputId": "e41b11e3-f858-48d8-f64a-4155e756ffed"
      },
      "execution_count": 14,
      "outputs": [
        {
          "output_type": "stream",
          "name": "stdout",
          "text": [
            "C-index: 0.560\n",
            "Average survival time: 2 days\n"
          ]
        }
      ]
    },
    {
      "cell_type": "code",
      "source": [
        "X = data.drop(['Grade'], axis=1)\n",
        "y = convert_to_structured(data['Grade'],data['MAB21L1'])\n",
        "\n",
        "X_train, X_valid,y_train, y_valid = train_test_split(X, y, test_size = 0.2, random_state=42)\n",
        "# converting to xgboost format\n",
        "dtrain = convert_data_to_xgb_format(X_train, y_train, 'survival:aft')\n",
        "dval = convert_data_to_xgb_format(X_valid, y_valid, 'survival:aft')\n",
        "\n",
        "# training model\n",
        "bst = xgb.train(\n",
        "    PARAMS_XGB_AFT,\n",
        "    dtrain,\n",
        "    num_boost_round=1000,\n",
        "    early_stopping_rounds=10,\n",
        "    evals=[(dval, 'val')],\n",
        "    verbose_eval=0\n",
        ")\n",
        "\n",
        "# predicting and evaluating\n",
        "preds = bst.predict(dval)\n",
        "cind = concordance_index(y_valid, -preds, risk_strategy='precomputed')\n",
        "print(f\"C-index: {cind:.3f}\")\n",
        "print(f\"Average survival time: {preds.mean():.0f} days\")"
      ],
      "metadata": {
        "colab": {
          "base_uri": "https://localhost:8080/"
        },
        "id": "IcWlWgba4wqJ",
        "outputId": "ed26da06-a75d-4abd-ff8d-5ddb8a4c69db"
      },
      "execution_count": 16,
      "outputs": [
        {
          "output_type": "stream",
          "name": "stdout",
          "text": [
            "C-index: 0.560\n",
            "Average survival time: 2 days\n"
          ]
        }
      ]
    },
    {
      "cell_type": "code",
      "source": [
        "X = data.drop(['Grade'], axis=1)\n",
        "y = convert_to_structured(data['Grade'],data['BTF3'])\n",
        "\n",
        "X_train, X_valid,y_train, y_valid = train_test_split(X, y, test_size = 0.2, random_state=42)\n",
        "# converting to xgboost format\n",
        "dtrain = convert_data_to_xgb_format(X_train, y_train, 'survival:aft')\n",
        "dval = convert_data_to_xgb_format(X_valid, y_valid, 'survival:aft')\n",
        "\n",
        "# training model\n",
        "bst = xgb.train(\n",
        "    PARAMS_XGB_AFT,\n",
        "    dtrain,\n",
        "    num_boost_round=1000,\n",
        "    early_stopping_rounds=10,\n",
        "    evals=[(dval, 'val')],\n",
        "    verbose_eval=0\n",
        ")\n",
        "\n",
        "# predicting and evaluating\n",
        "preds = bst.predict(dval)\n",
        "cind = concordance_index(y_valid, -preds, risk_strategy='precomputed')\n",
        "print(f\"C-index: {cind:.3f}\")\n",
        "print(f\"Average survival time: {preds.mean():.0f} days\")"
      ],
      "metadata": {
        "colab": {
          "base_uri": "https://localhost:8080/"
        },
        "id": "GrZw-yJq41HK",
        "outputId": "b44170ff-16ed-432c-d37f-eb68b54fb855"
      },
      "execution_count": 18,
      "outputs": [
        {
          "output_type": "stream",
          "name": "stdout",
          "text": [
            "C-index: 0.560\n",
            "Average survival time: 2 days\n"
          ]
        }
      ]
    },
    {
      "cell_type": "code",
      "source": [
        "X = data.drop(['Grade'], axis=1)\n",
        "y = convert_to_structured(data['Grade'],data['C6'])\n",
        "\n",
        "X_train, X_valid,y_train, y_valid = train_test_split(X, y, test_size = 0.2, random_state=42)\n",
        "# converting to xgboost format\n",
        "dtrain = convert_data_to_xgb_format(X_train, y_train, 'survival:aft')\n",
        "dval = convert_data_to_xgb_format(X_valid, y_valid, 'survival:aft')\n",
        "\n",
        "# training model\n",
        "bst = xgb.train(\n",
        "    PARAMS_XGB_AFT,\n",
        "    dtrain,\n",
        "    num_boost_round=1000,\n",
        "    early_stopping_rounds=10,\n",
        "    evals=[(dval, 'val')],\n",
        "    verbose_eval=0\n",
        ")\n",
        "\n",
        "# predicting and evaluating\n",
        "preds = bst.predict(dval)\n",
        "cind = concordance_index(y_valid, -preds, risk_strategy='precomputed')\n",
        "print(f\"C-index: {cind:.3f}\")\n",
        "print(f\"Average survival time: {preds.mean():.0f} days\")"
      ],
      "metadata": {
        "colab": {
          "base_uri": "https://localhost:8080/"
        },
        "id": "bTJKaPM95KCl",
        "outputId": "87714d19-c18c-488d-e5e8-46cb56c8b868"
      },
      "execution_count": 19,
      "outputs": [
        {
          "output_type": "stream",
          "name": "stdout",
          "text": [
            "C-index: 0.560\n",
            "Average survival time: 2 days\n"
          ]
        }
      ]
    },
    {
      "cell_type": "code",
      "source": [
        "X = data.drop(['Grade'], axis=1)\n",
        "y = convert_to_structured(data['Grade'],data['MZT2A'])\n",
        "\n",
        "X_train, X_valid,y_train, y_valid = train_test_split(X, y, test_size = 0.2, random_state=42)\n",
        "# converting to xgboost format\n",
        "dtrain = convert_data_to_xgb_format(X_train, y_train, 'survival:aft')\n",
        "dval = convert_data_to_xgb_format(X_valid, y_valid, 'survival:aft')\n",
        "\n",
        "# training model\n",
        "bst = xgb.train(\n",
        "    PARAMS_XGB_AFT,\n",
        "    dtrain,\n",
        "    num_boost_round=1000,\n",
        "    early_stopping_rounds=10,\n",
        "    evals=[(dval, 'val')],\n",
        "    verbose_eval=0\n",
        ")\n",
        "\n",
        "# predicting and evaluating\n",
        "preds = bst.predict(dval)\n",
        "cind = concordance_index(y_valid, -preds, risk_strategy='precomputed')\n",
        "print(f\"C-index: {cind:.3f}\")\n",
        "print(f\"Average survival time: {preds.mean():.0f} days\")"
      ],
      "metadata": {
        "colab": {
          "base_uri": "https://localhost:8080/",
          "height": 501
        },
        "id": "otrxDqbf5OGF",
        "outputId": "e323e63a-d854-486d-f139-39cfffe522d3"
      },
      "execution_count": 24,
      "outputs": [
        {
          "output_type": "error",
          "ename": "KeyError",
          "evalue": "ignored",
          "traceback": [
            "\u001b[0;31m---------------------------------------------------------------------------\u001b[0m",
            "\u001b[0;31mKeyError\u001b[0m                                  Traceback (most recent call last)",
            "\u001b[0;32m/usr/local/lib/python3.7/dist-packages/pandas/core/indexes/base.py\u001b[0m in \u001b[0;36mget_loc\u001b[0;34m(self, key, method, tolerance)\u001b[0m\n\u001b[1;32m   3360\u001b[0m             \u001b[0;32mtry\u001b[0m\u001b[0;34m:\u001b[0m\u001b[0;34m\u001b[0m\u001b[0;34m\u001b[0m\u001b[0m\n\u001b[0;32m-> 3361\u001b[0;31m                 \u001b[0;32mreturn\u001b[0m \u001b[0mself\u001b[0m\u001b[0;34m.\u001b[0m\u001b[0m_engine\u001b[0m\u001b[0;34m.\u001b[0m\u001b[0mget_loc\u001b[0m\u001b[0;34m(\u001b[0m\u001b[0mcasted_key\u001b[0m\u001b[0;34m)\u001b[0m\u001b[0;34m\u001b[0m\u001b[0;34m\u001b[0m\u001b[0m\n\u001b[0m\u001b[1;32m   3362\u001b[0m             \u001b[0;32mexcept\u001b[0m \u001b[0mKeyError\u001b[0m \u001b[0;32mas\u001b[0m \u001b[0merr\u001b[0m\u001b[0;34m:\u001b[0m\u001b[0;34m\u001b[0m\u001b[0;34m\u001b[0m\u001b[0m\n",
            "\u001b[0;32m/usr/local/lib/python3.7/dist-packages/pandas/_libs/index.pyx\u001b[0m in \u001b[0;36mpandas._libs.index.IndexEngine.get_loc\u001b[0;34m()\u001b[0m\n",
            "\u001b[0;32m/usr/local/lib/python3.7/dist-packages/pandas/_libs/index.pyx\u001b[0m in \u001b[0;36mpandas._libs.index.IndexEngine.get_loc\u001b[0;34m()\u001b[0m\n",
            "\u001b[0;32mpandas/_libs/hashtable_class_helper.pxi\u001b[0m in \u001b[0;36mpandas._libs.hashtable.PyObjectHashTable.get_item\u001b[0;34m()\u001b[0m\n",
            "\u001b[0;32mpandas/_libs/hashtable_class_helper.pxi\u001b[0m in \u001b[0;36mpandas._libs.hashtable.PyObjectHashTable.get_item\u001b[0;34m()\u001b[0m\n",
            "\u001b[0;31mKeyError\u001b[0m: 'MZT2A'",
            "\nThe above exception was the direct cause of the following exception:\n",
            "\u001b[0;31mKeyError\u001b[0m                                  Traceback (most recent call last)",
            "\u001b[0;32m<ipython-input-24-5d0fd328dc6f>\u001b[0m in \u001b[0;36m<module>\u001b[0;34m()\u001b[0m\n\u001b[1;32m      1\u001b[0m \u001b[0mX\u001b[0m \u001b[0;34m=\u001b[0m \u001b[0mdata\u001b[0m\u001b[0;34m.\u001b[0m\u001b[0mdrop\u001b[0m\u001b[0;34m(\u001b[0m\u001b[0;34m[\u001b[0m\u001b[0;34m'Grade'\u001b[0m\u001b[0;34m]\u001b[0m\u001b[0;34m,\u001b[0m \u001b[0maxis\u001b[0m\u001b[0;34m=\u001b[0m\u001b[0;36m1\u001b[0m\u001b[0;34m)\u001b[0m\u001b[0;34m\u001b[0m\u001b[0;34m\u001b[0m\u001b[0m\n\u001b[0;32m----> 2\u001b[0;31m \u001b[0my\u001b[0m \u001b[0;34m=\u001b[0m \u001b[0mconvert_to_structured\u001b[0m\u001b[0;34m(\u001b[0m\u001b[0mdata\u001b[0m\u001b[0;34m[\u001b[0m\u001b[0;34m'Grade'\u001b[0m\u001b[0;34m]\u001b[0m\u001b[0;34m,\u001b[0m\u001b[0mdata\u001b[0m\u001b[0;34m[\u001b[0m\u001b[0;34m'MZT2A'\u001b[0m\u001b[0;34m]\u001b[0m\u001b[0;34m)\u001b[0m\u001b[0;34m\u001b[0m\u001b[0;34m\u001b[0m\u001b[0m\n\u001b[0m\u001b[1;32m      3\u001b[0m \u001b[0;34m\u001b[0m\u001b[0m\n\u001b[1;32m      4\u001b[0m \u001b[0mX_train\u001b[0m\u001b[0;34m,\u001b[0m \u001b[0mX_valid\u001b[0m\u001b[0;34m,\u001b[0m\u001b[0my_train\u001b[0m\u001b[0;34m,\u001b[0m \u001b[0my_valid\u001b[0m \u001b[0;34m=\u001b[0m \u001b[0mtrain_test_split\u001b[0m\u001b[0;34m(\u001b[0m\u001b[0mX\u001b[0m\u001b[0;34m,\u001b[0m \u001b[0my\u001b[0m\u001b[0;34m,\u001b[0m \u001b[0mtest_size\u001b[0m \u001b[0;34m=\u001b[0m \u001b[0;36m0.2\u001b[0m\u001b[0;34m,\u001b[0m \u001b[0mrandom_state\u001b[0m\u001b[0;34m=\u001b[0m\u001b[0;36m42\u001b[0m\u001b[0;34m)\u001b[0m\u001b[0;34m\u001b[0m\u001b[0;34m\u001b[0m\u001b[0m\n\u001b[1;32m      5\u001b[0m \u001b[0;31m# converting to xgboost format\u001b[0m\u001b[0;34m\u001b[0m\u001b[0;34m\u001b[0m\u001b[0;34m\u001b[0m\u001b[0m\n",
            "\u001b[0;32m/usr/local/lib/python3.7/dist-packages/pandas/core/frame.py\u001b[0m in \u001b[0;36m__getitem__\u001b[0;34m(self, key)\u001b[0m\n\u001b[1;32m   3456\u001b[0m             \u001b[0;32mif\u001b[0m \u001b[0mself\u001b[0m\u001b[0;34m.\u001b[0m\u001b[0mcolumns\u001b[0m\u001b[0;34m.\u001b[0m\u001b[0mnlevels\u001b[0m \u001b[0;34m>\u001b[0m \u001b[0;36m1\u001b[0m\u001b[0;34m:\u001b[0m\u001b[0;34m\u001b[0m\u001b[0;34m\u001b[0m\u001b[0m\n\u001b[1;32m   3457\u001b[0m                 \u001b[0;32mreturn\u001b[0m \u001b[0mself\u001b[0m\u001b[0;34m.\u001b[0m\u001b[0m_getitem_multilevel\u001b[0m\u001b[0;34m(\u001b[0m\u001b[0mkey\u001b[0m\u001b[0;34m)\u001b[0m\u001b[0;34m\u001b[0m\u001b[0;34m\u001b[0m\u001b[0m\n\u001b[0;32m-> 3458\u001b[0;31m             \u001b[0mindexer\u001b[0m \u001b[0;34m=\u001b[0m \u001b[0mself\u001b[0m\u001b[0;34m.\u001b[0m\u001b[0mcolumns\u001b[0m\u001b[0;34m.\u001b[0m\u001b[0mget_loc\u001b[0m\u001b[0;34m(\u001b[0m\u001b[0mkey\u001b[0m\u001b[0;34m)\u001b[0m\u001b[0;34m\u001b[0m\u001b[0;34m\u001b[0m\u001b[0m\n\u001b[0m\u001b[1;32m   3459\u001b[0m             \u001b[0;32mif\u001b[0m \u001b[0mis_integer\u001b[0m\u001b[0;34m(\u001b[0m\u001b[0mindexer\u001b[0m\u001b[0;34m)\u001b[0m\u001b[0;34m:\u001b[0m\u001b[0;34m\u001b[0m\u001b[0;34m\u001b[0m\u001b[0m\n\u001b[1;32m   3460\u001b[0m                 \u001b[0mindexer\u001b[0m \u001b[0;34m=\u001b[0m \u001b[0;34m[\u001b[0m\u001b[0mindexer\u001b[0m\u001b[0;34m]\u001b[0m\u001b[0;34m\u001b[0m\u001b[0;34m\u001b[0m\u001b[0m\n",
            "\u001b[0;32m/usr/local/lib/python3.7/dist-packages/pandas/core/indexes/base.py\u001b[0m in \u001b[0;36mget_loc\u001b[0;34m(self, key, method, tolerance)\u001b[0m\n\u001b[1;32m   3361\u001b[0m                 \u001b[0;32mreturn\u001b[0m \u001b[0mself\u001b[0m\u001b[0;34m.\u001b[0m\u001b[0m_engine\u001b[0m\u001b[0;34m.\u001b[0m\u001b[0mget_loc\u001b[0m\u001b[0;34m(\u001b[0m\u001b[0mcasted_key\u001b[0m\u001b[0;34m)\u001b[0m\u001b[0;34m\u001b[0m\u001b[0;34m\u001b[0m\u001b[0m\n\u001b[1;32m   3362\u001b[0m             \u001b[0;32mexcept\u001b[0m \u001b[0mKeyError\u001b[0m \u001b[0;32mas\u001b[0m \u001b[0merr\u001b[0m\u001b[0;34m:\u001b[0m\u001b[0;34m\u001b[0m\u001b[0;34m\u001b[0m\u001b[0m\n\u001b[0;32m-> 3363\u001b[0;31m                 \u001b[0;32mraise\u001b[0m \u001b[0mKeyError\u001b[0m\u001b[0;34m(\u001b[0m\u001b[0mkey\u001b[0m\u001b[0;34m)\u001b[0m \u001b[0;32mfrom\u001b[0m \u001b[0merr\u001b[0m\u001b[0;34m\u001b[0m\u001b[0;34m\u001b[0m\u001b[0m\n\u001b[0m\u001b[1;32m   3364\u001b[0m \u001b[0;34m\u001b[0m\u001b[0m\n\u001b[1;32m   3365\u001b[0m         \u001b[0;32mif\u001b[0m \u001b[0mis_scalar\u001b[0m\u001b[0;34m(\u001b[0m\u001b[0mkey\u001b[0m\u001b[0;34m)\u001b[0m \u001b[0;32mand\u001b[0m \u001b[0misna\u001b[0m\u001b[0;34m(\u001b[0m\u001b[0mkey\u001b[0m\u001b[0;34m)\u001b[0m \u001b[0;32mand\u001b[0m \u001b[0;32mnot\u001b[0m \u001b[0mself\u001b[0m\u001b[0;34m.\u001b[0m\u001b[0mhasnans\u001b[0m\u001b[0;34m:\u001b[0m\u001b[0;34m\u001b[0m\u001b[0;34m\u001b[0m\u001b[0m\n",
            "\u001b[0;31mKeyError\u001b[0m: 'MZT2A'"
          ]
        }
      ]
    },
    {
      "cell_type": "code",
      "source": [
        "X = data.drop(['Grade'], axis=1)\n",
        "y = convert_to_structured(data['Grade'],data['MYL7'])\n",
        "\n",
        "X_train, X_valid,y_train, y_valid = train_test_split(X, y, test_size = 0.2, random_state=42)\n",
        "# converting to xgboost format\n",
        "dtrain = convert_data_to_xgb_format(X_train, y_train, 'survival:aft')\n",
        "dval = convert_data_to_xgb_format(X_valid, y_valid, 'survival:aft')\n",
        "\n",
        "# training model\n",
        "bst = xgb.train(\n",
        "    PARAMS_XGB_AFT,\n",
        "    dtrain,\n",
        "    num_boost_round=1000,\n",
        "    early_stopping_rounds=10,\n",
        "    evals=[(dval, 'val')],\n",
        "    verbose_eval=0\n",
        ")\n",
        "\n",
        "# predicting and evaluating\n",
        "preds = bst.predict(dval)\n",
        "cind = concordance_index(y_valid, -preds, risk_strategy='precomputed')\n",
        "print(f\"C-index: {cind:.3f}\")\n",
        "print(f\"Average survival time: {preds.mean():.0f} days\")"
      ],
      "metadata": {
        "colab": {
          "base_uri": "https://localhost:8080/"
        },
        "id": "4PyvD9Sj5Re_",
        "outputId": "d8ff9380-94f3-48ec-d5f8-dc29da09be3f"
      },
      "execution_count": 25,
      "outputs": [
        {
          "output_type": "stream",
          "name": "stdout",
          "text": [
            "C-index: 0.560\n",
            "Average survival time: 2 days\n"
          ]
        }
      ]
    },
    {
      "cell_type": "code",
      "source": [
        ""
      ],
      "metadata": {
        "id": "hbEv5fZQ6Qtv"
      },
      "execution_count": null,
      "outputs": []
    }
  ]
}