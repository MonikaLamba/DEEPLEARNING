{
 "cells": [
  {
   "cell_type": "code",
   "execution_count": 2,
   "metadata": {},
   "outputs": [],
   "source": [
    "import configparser\n",
    "from argparse import ArgumentParser\n"
   ]
  },
  {
   "cell_type": "code",
   "execution_count": 3,
   "metadata": {},
   "outputs": [],
   "source": [
    "import tensorflow as tf\n",
    "from tqdm import tqdm\n"
   ]
  },
  {
   "cell_type": "code",
   "execution_count": 4,
   "metadata": {},
   "outputs": [],
   "source": [
    "from experiments.classifier import NeuralNetworkClassifier\n",
    "from experiments.dataset import Dataset\n",
    "from experiments.experiment import Experiment\n",
    "from utils.log_saver import LogSaver\n"
   ]
  },
  {
   "cell_type": "code",
   "execution_count": 5,
   "metadata": {},
   "outputs": [],
   "source": [
    "def run_experiment(experiment_config):\n",
    "    dataset = Dataset('data/autism.tsv')\n",
    "    num_epochs = 1000\n",
    "    eval_every = 10\n",
    "\n",
    "    for fold_id, (train_idxs, test_idxs) in dataset.cross_validation():\n",
    "\n",
    "        data_train_fold = dataset.get_data(train_idxs)\n",
    "        num_instances, labels_train_fold = dataset.get_labels(train_idxs)\n",
    "\n",
    "        data_test_fold = dataset.get_data(test_idxs)\n",
    "        _, labels_test_fold = dataset.get_labels(test_idxs)\n",
    "\n",
    "        with tf.Graph().as_default() as graph:\n",
    "\n",
    "            experiment = Experiment(experiment_config, num_instances, NeuralNetworkClassifier, data_train_fold)\n",
    "\n",
    "            with tf.Session() as session:\n",
    "\n",
    "                global_step = 0\n",
    "                session.run(tf.global_variables_initializer())\n",
    "\n",
    "                log_saver = LogSaver('logs', 'fisher_fold{}'.format(fold_id), session.graph)\n",
    "\n",
    "                train_selected_data = session.run(experiment.selection_wrapper.selected_data)\n",
    "                test_selected_data = session.run(experiment.selection_wrapper.select(data_test_fold))\n",
    "\n",
    "                tqdm_iter = tqdm(range(num_epochs), desc='Epochs')\n",
    "\n",
    "                for epoch in tqdm_iter:\n",
    "                    feed_dict = {experiment.clf.x: train_selected_data, experiment.clf.y: labels_train_fold}\n",
    "                    loss, _ = session.run([experiment.clf.loss, experiment.clf.opt],\n",
    "                                          feed_dict=feed_dict)\n",
    "\n",
    "                    if epoch % eval_every == 0:\n",
    "                        summary = session.run(experiment.clf.summary_op, feed_dict=feed_dict)\n",
    "                        log_saver.log_train(summary, epoch)\n",
    "\n",
    "                        feed_dict = {experiment.clf.x: test_selected_data, experiment.clf.y: labels_test_fold}\n",
    "                        summary = session.run(experiment.clf.summary_op, feed_dict=feed_dict)\n",
    "                        log_saver.log_test(summary, epoch)\n",
    "\n",
    "                    tqdm_iter.set_postfix(loss='{:.2f}'.format(float(loss)), epoch=epoch)\n"
   ]
  },
  {
   "cell_type": "code",
   "execution_count": 11,
   "metadata": {},
   "outputs": [
    {
     "name": "stderr",
     "output_type": "stream",
     "text": [
      "usage: ipykernel_launcher.py [-h] {simple_experiment}\n",
      "ipykernel_launcher.py: error: argument experiment: invalid choice: 'C:\\\\Users\\\\Lamba And Associates\\\\AppData\\\\Roaming\\\\jupyter\\\\runtime\\\\kernel-384323f2-b262-4d2b-85ef-9054289a0fa9.json' (choose from 'simple_experiment')\n"
     ]
    },
    {
     "ename": "SystemExit",
     "evalue": "2",
     "output_type": "error",
     "traceback": [
      "An exception has occurred, use %tb to see the full traceback.\n",
      "\u001b[1;31mSystemExit\u001b[0m\u001b[1;31m:\u001b[0m 2\n"
     ]
    }
   ],
   "source": [
    "def main():\n",
    "    parser = ArgumentParser()\n",
    "    parser.add_argument('experiment',\n",
    "                        default='simple_experiment',\n",
    "                        choices=['simple_experiment'],\n",
    "                        help='model used during training (default: %(default))')\n",
    "\n",
    "    args = parser.parse_args()\n",
    "    experiment_config = configparser.ConfigParser()\n",
    "    experiment_config.read('config/experiments/{}.ini'.format(args.experiment))\n",
    "\n",
    "    run_experiment(experiment_config)\n",
    "\n",
    "\n",
    "if __name__ == '__main__': main()\n"
   ]
  },
  {
   "cell_type": "code",
   "execution_count": null,
   "metadata": {},
   "outputs": [],
   "source": []
  }
 ],
 "metadata": {
  "kernelspec": {
   "display_name": "Python 3",
   "language": "python",
   "name": "python3"
  },
  "language_info": {
   "codemirror_mode": {
    "name": "ipython",
    "version": 3
   },
   "file_extension": ".py",
   "mimetype": "text/x-python",
   "name": "python",
   "nbconvert_exporter": "python",
   "pygments_lexer": "ipython3",
   "version": "3.7.3"
  }
 },
 "nbformat": 4,
 "nbformat_minor": 2
}
