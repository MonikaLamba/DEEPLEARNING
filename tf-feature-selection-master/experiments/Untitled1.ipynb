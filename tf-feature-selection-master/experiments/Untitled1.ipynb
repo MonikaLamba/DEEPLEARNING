{
 "cells": [
  {
   "cell_type": "code",
   "execution_count": 1,
   "metadata": {},
   "outputs": [],
   "source": [
    "import tensorflow as tf\n",
    "\n",
    "\n",
    "def ff_neural_network(inputs, units):\n",
    "    layer = tf.layers.dense(inputs, units=units, activation=tf.nn.tanh)\n",
    "    output = tf.layers.dense(layer, units=1)\n",
    "    return output\n",
    "\n",
    "\n",
    "class NeuralNetworkClassifier:\n",
    "\n",
    "    def __init__(self, num_features, units):\n",
    "        self.x = tf.placeholder(dtype=tf.float64, shape=[None, num_features], name='inputs')\n",
    "        self.y = tf.placeholder(dtype=tf.float64, shape=[None, 1], name='labels')\n",
    "\n",
    "        output = ff_neural_network(self.x, units=units)\n",
    "\n",
    "        with tf.name_scope('loss'):\n",
    "            self.loss = tf.losses.sigmoid_cross_entropy(self.y, output)\n",
    "            self.opt = tf.train.AdamOptimizer(learning_rate=0.01).minimize(self.loss)\n",
    "\n",
    "        with tf.name_scope('metrics'):\n",
    "            self.prediction = tf.nn.sigmoid(output)\n",
    "\n",
    "            self.correct_predictions = tf.equal(self.prediction, self.y)\n",
    "            self.accuracy = tf.reduce_mean(tf.to_float(self.correct_predictions))\n",
    "            tf.summary.scalar(\"accuracy\", self.accuracy)\n",
    "            tf.summary.scalar(\"loss\", self.loss)\n",
    "            self.summary_op = tf.summary.merge_all()\n"
   ]
  },
  {
   "cell_type": "code",
   "execution_count": null,
   "metadata": {},
   "outputs": [],
   "source": []
  }
 ],
 "metadata": {
  "kernelspec": {
   "display_name": "Python 3",
   "language": "python",
   "name": "python3"
  },
  "language_info": {
   "codemirror_mode": {
    "name": "ipython",
    "version": 3
   },
   "file_extension": ".py",
   "mimetype": "text/x-python",
   "name": "python",
   "nbconvert_exporter": "python",
   "pygments_lexer": "ipython3",
   "version": "3.7.3"
  }
 },
 "nbformat": 4,
 "nbformat_minor": 2
}
